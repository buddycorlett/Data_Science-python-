{
 "cells": [
  {
   "cell_type": "code",
   "execution_count": 7,
   "metadata": {},
   "outputs": [
    {
     "name": "stdout",
     "output_type": "stream",
     "text": [
      "3\n",
      "0.5\n"
     ]
    }
   ],
   "source": [
    "def even(x):\n",
    "     return(x % 2 == 0)\n",
    "sample_space = [1, 2, 3, 4, 5, 6]\n",
    "die_sides = len(sample_space)\n",
    "even_roll = len([x for x in sample_space if even(x)])\n",
    "#print(x)\n",
    "print(even_roll)\n",
    "even_probability = even_roll / die_sides\n",
    "print(even_probability)"
   ]
  },
  {
   "cell_type": "raw",
   "metadata": {},
   "source": [
    "\n",
    "QUICK QUIZ - Why is the print(x) statement not working \n"
   ]
  },
  {
   "cell_type": "raw",
   "metadata": {},
   "source": [
    "Scope of variables"
   ]
  },
  {
   "cell_type": "code",
   "execution_count": 9,
   "metadata": {},
   "outputs": [
    {
     "name": "stdout",
     "output_type": "stream",
     "text": [
      "[2, 4, 6]\n",
      "0.5\n"
     ]
    }
   ],
   "source": [
    "def even(x):\n",
    "     return(x % 2 == 0)\n",
    "sample_space = [1, 2, 3, 4, 5, 6]\n",
    "die_sides = len(sample_space)\n",
    "even_roll = []\n",
    "for x in sample_space:\n",
    "    if even(x):\n",
    "        even_roll.append(x)\n",
    "print(even_roll)\n",
    "even_probability = len(even_roll) / die_sides\n",
    "print(even_probability)"
   ]
  },
  {
   "cell_type": "code",
   "execution_count": 11,
   "metadata": {},
   "outputs": [
    {
     "data": {
      "text/plain": [
       "{1, 3, 5, 6}"
      ]
     },
     "execution_count": 11,
     "metadata": {},
     "output_type": "execute_result"
    }
   ],
   "source": [
    "a = set([1, 3, 5])\n",
    "b = set([5, 6])\n",
    "a.union(b)"
   ]
  },
  {
   "cell_type": "code",
   "execution_count": 12,
   "metadata": {},
   "outputs": [
    {
     "data": {
      "text/plain": [
       "{5}"
      ]
     },
     "execution_count": 12,
     "metadata": {},
     "output_type": "execute_result"
    }
   ],
   "source": [
    "a.intersection(b)"
   ]
  },
  {
   "cell_type": "code",
   "execution_count": null,
   "metadata": {},
   "outputs": [],
   "source": [
    "Mutually exclusive example\n",
    "\n",
    "Imagine there are two people A and B who do not know each other but work in the same building. \n",
    "Consider the event A where Sam arrives before John, \n",
    "and event B where John Arrives before Sam. The events are mutually exclusive because they have different routes\n",
    "and are completely unrelated. \n",
    "\n",
    "Independence: Here the events are related but the outcome of one does not affect the outcome of the other. \n",
    "Now consider a similar example but the two people now work in the same team. Event A is defined as where Sam \n",
    "arrives before John, and event B where John Arrives before Sam. In this case the events are independent as the \n",
    "outcome of one does not affect the outcome of the other. Here the events are related but not affected by one another\n",
    "\n",
    "NOTE - It is important to note that it all depends on how we define the two events \n",
    "\n",
    "Another example: Tossing a coin\n",
    "\n",
    "Event A - Getting a heads\n",
    "Event B -  Getting a tail \n",
    "  \n",
    "A and B are independent of each other \n",
    "\n",
    "\n",
    "Event A - Getting a heads or tails\n",
    "Event B - Getting a 6 on a roll of die\n",
    "    \n"
   ]
  }
 ],
 "metadata": {
  "kernelspec": {
   "display_name": "Python 3",
   "language": "python",
   "name": "python3"
  },
  "language_info": {
   "codemirror_mode": {
    "name": "ipython",
    "version": 3
   },
   "file_extension": ".py",
   "mimetype": "text/x-python",
   "name": "python",
   "nbconvert_exporter": "python",
   "pygments_lexer": "ipython3",
   "version": "3.6.8"
  }
 },
 "nbformat": 4,
 "nbformat_minor": 2
}
