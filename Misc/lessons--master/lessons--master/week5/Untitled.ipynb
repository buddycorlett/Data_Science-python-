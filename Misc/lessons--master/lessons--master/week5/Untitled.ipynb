{
 "cells": [
  {
   "cell_type": "code",
   "execution_count": 2,
   "metadata": {},
   "outputs": [
    {
     "name": "stdout",
     "output_type": "stream",
     "text": [
      "1\n",
      "2\n",
      "3\n",
      "4\n",
      "5\n",
      "6\n",
      "7\n",
      "8\n",
      "9\n",
      "10\n",
      "11\n",
      "Days = 11\n"
     ]
    }
   ],
   "source": [
    "well_height = 125\n",
    "daily_advance = 30\n",
    "night_retreat = 20\n",
    "snail_has_not_escaped = True\n",
    "days = 0\n",
    "total_CMs = 0\n",
    "\n",
    "accumulated_distance = daily_advance - night_retreat\n",
    "\n",
    "while snail_has_not_escaped:\n",
    "   total_CMs += daily_advance\n",
    "   days += 1\n",
    "   print(days)\n",
    "   if total_CMs >= well_height:\n",
    "       snail_has_not_escaped = False\n",
    "   else:\n",
    "    total_CMs -= night_retreat \n",
    "print(\"Days =\", days)"
   ]
  },
  {
   "cell_type": "code",
   "execution_count": null,
   "metadata": {},
   "outputs": [],
   "source": []
  }
 ],
 "metadata": {
  "kernelspec": {
   "display_name": "Python 3",
   "language": "python",
   "name": "python3"
  },
  "language_info": {
   "codemirror_mode": {
    "name": "ipython",
    "version": 3
   },
   "file_extension": ".py",
   "mimetype": "text/x-python",
   "name": "python",
   "nbconvert_exporter": "python",
   "pygments_lexer": "ipython3",
   "version": "3.7.3"
  }
 },
 "nbformat": 4,
 "nbformat_minor": 2
}
