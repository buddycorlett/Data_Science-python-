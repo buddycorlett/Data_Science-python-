{
 "cells": [
  {
   "cell_type": "code",
   "execution_count": 3,
   "metadata": {},
   "outputs": [],
   "source": [
    "import numpy as np\n",
    "from scipy.stats import ttest_1samp\n",
    "patients = np.random.normal(5.1, 1.6, 100)"
   ]
  },
  {
   "cell_type": "code",
   "execution_count": 4,
   "metadata": {},
   "outputs": [
    {
     "data": {
      "text/plain": [
       "array([4.99220717, 5.6922728 , 3.76722931, 7.51021326, 4.73653598,\n",
       "       6.15348605, 5.04856897, 4.3689104 , 3.19649195, 7.63481716,\n",
       "       6.86732934, 4.3042363 , 3.79445086, 5.23223813, 6.72920687,\n",
       "       5.061162  , 4.20126898, 4.48123639, 6.02789401, 2.61282629,\n",
       "       3.98407797, 8.02343861, 7.51514542, 6.33037105, 5.37168053,\n",
       "       4.44706386, 2.38986034, 5.99461009, 3.34054519, 4.47735882,\n",
       "       6.13282152, 1.40826535, 6.90020814, 4.18558455, 5.94805511,\n",
       "       4.76511587, 5.7262299 , 4.62942669, 3.95965657, 5.18487636,\n",
       "       3.01324206, 6.22370438, 5.19910798, 3.47860252, 3.73698489,\n",
       "       9.48945305, 7.32417143, 5.65578251, 7.48188155, 6.55027468,\n",
       "       7.82234392, 4.64870088, 6.19464999, 2.17892767, 5.14788118,\n",
       "       5.99863145, 3.58894235, 7.04595401, 4.50319478, 2.58029652,\n",
       "       4.87183865, 6.20571211, 4.63627882, 2.88966884, 3.89238536,\n",
       "       7.26349438, 3.75165155, 2.7415899 , 6.70442742, 5.26480173,\n",
       "       6.31843781, 7.12830747, 6.08354199, 3.71536782, 2.77009301,\n",
       "       2.91172011, 2.92728023, 3.56897336, 6.58148729, 3.61136454,\n",
       "       6.16182544, 5.19226541, 5.2350556 , 9.81460754, 5.48126506,\n",
       "       5.11918932, 4.64258727, 4.00703078, 6.89457242, 5.30843363,\n",
       "       1.50534478, 1.59170113, 3.42192762, 4.6688823 , 6.33334849,\n",
       "       6.21258254, 5.37891464, 3.40035192, 5.02922718, 6.91650422])"
      ]
     },
     "execution_count": 4,
     "metadata": {},
     "output_type": "execute_result"
    }
   ],
   "source": [
    "patients"
   ]
  },
  {
   "cell_type": "code",
   "execution_count": 5,
   "metadata": {},
   "outputs": [
    {
     "data": {
      "text/plain": [
       "5.071437416206999"
      ]
     },
     "execution_count": 5,
     "metadata": {},
     "output_type": "execute_result"
    }
   ],
   "source": [
    "patients.mean()"
   ]
  },
  {
   "cell_type": "code",
   "execution_count": 6,
   "metadata": {},
   "outputs": [
    {
     "data": {
      "text/plain": [
       "1.6683260972757876"
      ]
     },
     "execution_count": 6,
     "metadata": {},
     "output_type": "execute_result"
    }
   ],
   "source": [
    "patients.std()"
   ]
  },
  {
   "cell_type": "code",
   "execution_count": 7,
   "metadata": {},
   "outputs": [
    {
     "data": {
      "text/plain": [
       "5.071437416206999"
      ]
     },
     "execution_count": 7,
     "metadata": {},
     "output_type": "execute_result"
    }
   ],
   "source": [
    "import statistics as stats\n",
    "stats.mean(patients)"
   ]
  },
  {
   "cell_type": "code",
   "execution_count": 8,
   "metadata": {},
   "outputs": [
    {
     "data": {
      "text/plain": [
       "1.6683260972757876"
      ]
     },
     "execution_count": 8,
     "metadata": {},
     "output_type": "execute_result"
    }
   ],
   "source": [
    "stats.pstdev(patients)"
   ]
  },
  {
   "cell_type": "code",
   "execution_count": 9,
   "metadata": {},
   "outputs": [
    {
     "data": {
      "text/plain": [
       "1.6767308159459853"
      ]
     },
     "execution_count": 9,
     "metadata": {},
     "output_type": "execute_result"
    }
   ],
   "source": [
    "stats.stdev(patients)"
   ]
  },
  {
   "cell_type": "code",
   "execution_count": null,
   "metadata": {},
   "outputs": [],
   "source": []
  },
  {
   "cell_type": "code",
   "execution_count": 10,
   "metadata": {},
   "outputs": [
    {
     "data": {
      "text/plain": [
       "Ttest_1sampResult(statistic=-3.748738782726886, pvalue=0.00029917974339119604)"
      ]
     },
     "execution_count": 10,
     "metadata": {},
     "output_type": "execute_result"
    }
   ],
   "source": [
    "ttest_1samp(patients, 5.7)"
   ]
  },
  {
   "cell_type": "code",
   "execution_count": 11,
   "metadata": {},
   "outputs": [
    {
     "data": {
      "text/plain": [
       "numpy.ndarray"
      ]
     },
     "execution_count": 11,
     "metadata": {},
     "output_type": "execute_result"
    }
   ],
   "source": [
    "type(patients)"
   ]
  },
  {
   "cell_type": "code",
   "execution_count": null,
   "metadata": {},
   "outputs": [],
   "source": []
  }
 ],
 "metadata": {
  "kernelspec": {
   "display_name": "Python 3",
   "language": "python",
   "name": "python3"
  },
  "language_info": {
   "codemirror_mode": {
    "name": "ipython",
    "version": 3
   },
   "file_extension": ".py",
   "mimetype": "text/x-python",
   "name": "python",
   "nbconvert_exporter": "python",
   "pygments_lexer": "ipython3",
   "version": "3.7.3"
  }
 },
 "nbformat": 4,
 "nbformat_minor": 2
}
