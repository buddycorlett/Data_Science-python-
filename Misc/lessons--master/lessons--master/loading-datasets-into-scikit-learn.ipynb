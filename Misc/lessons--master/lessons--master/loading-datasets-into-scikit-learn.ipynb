{
 "cells": [
  {
   "cell_type": "code",
   "execution_count": 12,
   "metadata": {},
   "outputs": [],
   "source": [
    "from sklearn import datasets\n",
    "import pandas as pd\n",
    "import numpy as np"
   ]
  },
  {
   "cell_type": "code",
   "execution_count": 10,
   "metadata": {},
   "outputs": [
    {
     "data": {
      "text/plain": [
       "dict_keys(['data', 'target', 'DESCR', 'feature_names', 'data_filename', 'target_filename'])"
      ]
     },
     "execution_count": 10,
     "metadata": {},
     "output_type": "execute_result"
    }
   ],
   "source": [
    "diabetesDataset = datasets.load_diabetes()\n",
    "# diabetesDataset\n",
    "diabetesDataset.keys()"
   ]
  },
  {
   "cell_type": "code",
   "execution_count": null,
   "metadata": {},
   "outputs": [],
   "source": [
    "diabetesDataset['data'][0]"
   ]
  },
  {
   "cell_type": "code",
   "execution_count": 6,
   "metadata": {},
   "outputs": [
    {
     "data": {
      "text/plain": [
       "10"
      ]
     },
     "execution_count": 6,
     "metadata": {},
     "output_type": "execute_result"
    }
   ],
   "source": [
    "# Number of features in the dataset are \n",
    "len(diabetesDataset['data'][0])"
   ]
  },
  {
   "cell_type": "code",
   "execution_count": 16,
   "metadata": {},
   "outputs": [
    {
     "name": "stdout",
     "output_type": "stream",
     "text": [
      "        age       sex       bmi        bp        s1        s2        s3  \\\n",
      "0  0.038076  0.050680  0.061696  0.021872 -0.044223 -0.034821 -0.043401   \n",
      "1 -0.001882 -0.044642 -0.051474 -0.026328 -0.008449 -0.019163  0.074412   \n",
      "2  0.085299  0.050680  0.044451 -0.005671 -0.045599 -0.034194 -0.032356   \n",
      "3 -0.089063 -0.044642 -0.011595 -0.036656  0.012191  0.024991 -0.036038   \n",
      "4  0.005383 -0.044642 -0.036385  0.021872  0.003935  0.015596  0.008142   \n",
      "\n",
      "         s4        s5        s6  \n",
      "0 -0.002592  0.019908 -0.017646  \n",
      "1 -0.039493 -0.068330 -0.092204  \n",
      "2 -0.002592  0.002864 -0.025930  \n",
      "3  0.034309  0.022692 -0.009362  \n",
      "4 -0.002592 -0.031991 -0.046641  \n"
     ]
    }
   ],
   "source": [
    "X = diabetesDataset['data']\n",
    "X = pd.DataFrame(X)\n",
    "X.columns = diabetesDataset['feature_names']\n",
    "print(X.head())"
   ]
  },
  {
   "cell_type": "code",
   "execution_count": 22,
   "metadata": {},
   "outputs": [
    {
     "name": "stdout",
     "output_type": "stream",
     "text": [
      "   Target\n",
      "0   151.0\n",
      "1    75.0\n",
      "2   141.0\n",
      "3   206.0\n",
      "4   135.0\n"
     ]
    }
   ],
   "source": [
    "Y = diabetesDataset['target']\n",
    "Y = pd.DataFrame(Y)\n",
    "Y.columns = ['Target']\n",
    "print(Y.head())"
   ]
  },
  {
   "cell_type": "code",
   "execution_count": null,
   "metadata": {},
   "outputs": [],
   "source": []
  },
  {
   "cell_type": "code",
   "execution_count": 30,
   "metadata": {},
   "outputs": [],
   "source": [
    "import json\n",
    "from urllib.request import urlopen\n",
    "import pandas as pd\n",
    "from pandas.io.json import json_normalize"
   ]
  },
  {
   "cell_type": "code",
   "execution_count": 40,
   "metadata": {},
   "outputs": [
    {
     "data": {
      "text/plain": [
       "dict_keys(['pokemon'])"
      ]
     },
     "execution_count": 40,
     "metadata": {},
     "output_type": "execute_result"
    }
   ],
   "source": [
    "url = 'https://raw.githubusercontent.com/Biuni/PokemonGO-Pokedex/master/pokedex.json'\n",
    "#In Python3 we will need to decode the data as well, \n",
    "#hence the use of the decode function\n",
    "url_read = urlopen(url).read().decode()\n",
    "url_json = json.loads(url_read)\n",
    "url_json\n",
    "url_json.keys()"
   ]
  },
  {
   "cell_type": "code",
   "execution_count": 39,
   "metadata": {},
   "outputs": [
    {
     "data": {
      "text/html": [
       "<div>\n",
       "<style scoped>\n",
       "    .dataframe tbody tr th:only-of-type {\n",
       "        vertical-align: middle;\n",
       "    }\n",
       "\n",
       "    .dataframe tbody tr th {\n",
       "        vertical-align: top;\n",
       "    }\n",
       "\n",
       "    .dataframe thead th {\n",
       "        text-align: right;\n",
       "    }\n",
       "</style>\n",
       "<table border=\"1\" class=\"dataframe\">\n",
       "  <thead>\n",
       "    <tr style=\"text-align: right;\">\n",
       "      <th></th>\n",
       "      <th>avg_spawns</th>\n",
       "      <th>candy</th>\n",
       "      <th>candy_count</th>\n",
       "      <th>egg</th>\n",
       "      <th>height</th>\n",
       "      <th>id</th>\n",
       "      <th>img</th>\n",
       "      <th>multipliers</th>\n",
       "      <th>name</th>\n",
       "      <th>next_evolution</th>\n",
       "      <th>num</th>\n",
       "      <th>prev_evolution</th>\n",
       "      <th>spawn_chance</th>\n",
       "      <th>spawn_time</th>\n",
       "      <th>type</th>\n",
       "      <th>weaknesses</th>\n",
       "      <th>weight</th>\n",
       "    </tr>\n",
       "  </thead>\n",
       "  <tbody>\n",
       "    <tr>\n",
       "      <th>0</th>\n",
       "      <td>69.0</td>\n",
       "      <td>Bulbasaur Candy</td>\n",
       "      <td>25.0</td>\n",
       "      <td>2 km</td>\n",
       "      <td>0.71 m</td>\n",
       "      <td>1</td>\n",
       "      <td>http://www.serebii.net/pokemongo/pokemon/001.png</td>\n",
       "      <td>[1.58]</td>\n",
       "      <td>Bulbasaur</td>\n",
       "      <td>[{'num': '002', 'name': 'Ivysaur'}, {'num': '0...</td>\n",
       "      <td>001</td>\n",
       "      <td>NaN</td>\n",
       "      <td>0.690</td>\n",
       "      <td>20:00</td>\n",
       "      <td>[Grass, Poison]</td>\n",
       "      <td>[Fire, Ice, Flying, Psychic]</td>\n",
       "      <td>6.9 kg</td>\n",
       "    </tr>\n",
       "    <tr>\n",
       "      <th>1</th>\n",
       "      <td>4.2</td>\n",
       "      <td>Bulbasaur Candy</td>\n",
       "      <td>100.0</td>\n",
       "      <td>Not in Eggs</td>\n",
       "      <td>0.99 m</td>\n",
       "      <td>2</td>\n",
       "      <td>http://www.serebii.net/pokemongo/pokemon/002.png</td>\n",
       "      <td>[1.2, 1.6]</td>\n",
       "      <td>Ivysaur</td>\n",
       "      <td>[{'num': '003', 'name': 'Venusaur'}]</td>\n",
       "      <td>002</td>\n",
       "      <td>[{'num': '001', 'name': 'Bulbasaur'}]</td>\n",
       "      <td>0.042</td>\n",
       "      <td>07:00</td>\n",
       "      <td>[Grass, Poison]</td>\n",
       "      <td>[Fire, Ice, Flying, Psychic]</td>\n",
       "      <td>13.0 kg</td>\n",
       "    </tr>\n",
       "    <tr>\n",
       "      <th>2</th>\n",
       "      <td>1.7</td>\n",
       "      <td>Bulbasaur Candy</td>\n",
       "      <td>NaN</td>\n",
       "      <td>Not in Eggs</td>\n",
       "      <td>2.01 m</td>\n",
       "      <td>3</td>\n",
       "      <td>http://www.serebii.net/pokemongo/pokemon/003.png</td>\n",
       "      <td>None</td>\n",
       "      <td>Venusaur</td>\n",
       "      <td>NaN</td>\n",
       "      <td>003</td>\n",
       "      <td>[{'num': '001', 'name': 'Bulbasaur'}, {'num': ...</td>\n",
       "      <td>0.017</td>\n",
       "      <td>11:30</td>\n",
       "      <td>[Grass, Poison]</td>\n",
       "      <td>[Fire, Ice, Flying, Psychic]</td>\n",
       "      <td>100.0 kg</td>\n",
       "    </tr>\n",
       "    <tr>\n",
       "      <th>3</th>\n",
       "      <td>25.3</td>\n",
       "      <td>Charmander Candy</td>\n",
       "      <td>25.0</td>\n",
       "      <td>2 km</td>\n",
       "      <td>0.61 m</td>\n",
       "      <td>4</td>\n",
       "      <td>http://www.serebii.net/pokemongo/pokemon/004.png</td>\n",
       "      <td>[1.65]</td>\n",
       "      <td>Charmander</td>\n",
       "      <td>[{'num': '005', 'name': 'Charmeleon'}, {'num':...</td>\n",
       "      <td>004</td>\n",
       "      <td>NaN</td>\n",
       "      <td>0.253</td>\n",
       "      <td>08:45</td>\n",
       "      <td>[Fire]</td>\n",
       "      <td>[Water, Ground, Rock]</td>\n",
       "      <td>8.5 kg</td>\n",
       "    </tr>\n",
       "    <tr>\n",
       "      <th>4</th>\n",
       "      <td>1.2</td>\n",
       "      <td>Charmander Candy</td>\n",
       "      <td>100.0</td>\n",
       "      <td>Not in Eggs</td>\n",
       "      <td>1.09 m</td>\n",
       "      <td>5</td>\n",
       "      <td>http://www.serebii.net/pokemongo/pokemon/005.png</td>\n",
       "      <td>[1.79]</td>\n",
       "      <td>Charmeleon</td>\n",
       "      <td>[{'num': '006', 'name': 'Charizard'}]</td>\n",
       "      <td>005</td>\n",
       "      <td>[{'num': '004', 'name': 'Charmander'}]</td>\n",
       "      <td>0.012</td>\n",
       "      <td>19:00</td>\n",
       "      <td>[Fire]</td>\n",
       "      <td>[Water, Ground, Rock]</td>\n",
       "      <td>19.0 kg</td>\n",
       "    </tr>\n",
       "  </tbody>\n",
       "</table>\n",
       "</div>"
      ],
      "text/plain": [
       "   avg_spawns             candy  candy_count          egg  height  id  \\\n",
       "0        69.0   Bulbasaur Candy         25.0         2 km  0.71 m   1   \n",
       "1         4.2   Bulbasaur Candy        100.0  Not in Eggs  0.99 m   2   \n",
       "2         1.7   Bulbasaur Candy          NaN  Not in Eggs  2.01 m   3   \n",
       "3        25.3  Charmander Candy         25.0         2 km  0.61 m   4   \n",
       "4         1.2  Charmander Candy        100.0  Not in Eggs  1.09 m   5   \n",
       "\n",
       "                                                img multipliers        name  \\\n",
       "0  http://www.serebii.net/pokemongo/pokemon/001.png      [1.58]   Bulbasaur   \n",
       "1  http://www.serebii.net/pokemongo/pokemon/002.png  [1.2, 1.6]     Ivysaur   \n",
       "2  http://www.serebii.net/pokemongo/pokemon/003.png        None    Venusaur   \n",
       "3  http://www.serebii.net/pokemongo/pokemon/004.png      [1.65]  Charmander   \n",
       "4  http://www.serebii.net/pokemongo/pokemon/005.png      [1.79]  Charmeleon   \n",
       "\n",
       "                                      next_evolution  num  \\\n",
       "0  [{'num': '002', 'name': 'Ivysaur'}, {'num': '0...  001   \n",
       "1               [{'num': '003', 'name': 'Venusaur'}]  002   \n",
       "2                                                NaN  003   \n",
       "3  [{'num': '005', 'name': 'Charmeleon'}, {'num':...  004   \n",
       "4              [{'num': '006', 'name': 'Charizard'}]  005   \n",
       "\n",
       "                                      prev_evolution  spawn_chance spawn_time  \\\n",
       "0                                                NaN         0.690      20:00   \n",
       "1              [{'num': '001', 'name': 'Bulbasaur'}]         0.042      07:00   \n",
       "2  [{'num': '001', 'name': 'Bulbasaur'}, {'num': ...         0.017      11:30   \n",
       "3                                                NaN         0.253      08:45   \n",
       "4             [{'num': '004', 'name': 'Charmander'}]         0.012      19:00   \n",
       "\n",
       "              type                    weaknesses    weight  \n",
       "0  [Grass, Poison]  [Fire, Ice, Flying, Psychic]    6.9 kg  \n",
       "1  [Grass, Poison]  [Fire, Ice, Flying, Psychic]   13.0 kg  \n",
       "2  [Grass, Poison]  [Fire, Ice, Flying, Psychic]  100.0 kg  \n",
       "3           [Fire]         [Water, Ground, Rock]    8.5 kg  \n",
       "4           [Fire]         [Water, Ground, Rock]   19.0 kg  "
      ]
     },
     "execution_count": 39,
     "metadata": {},
     "output_type": "execute_result"
    }
   ],
   "source": [
    "url_json = json_normalize(url_json['pokemon'])\n",
    "url_json.head()"
   ]
  },
  {
   "cell_type": "code",
   "execution_count": 38,
   "metadata": {},
   "outputs": [
    {
     "data": {
      "text/html": [
       "<div>\n",
       "<style scoped>\n",
       "    .dataframe tbody tr th:only-of-type {\n",
       "        vertical-align: middle;\n",
       "    }\n",
       "\n",
       "    .dataframe tbody tr th {\n",
       "        vertical-align: top;\n",
       "    }\n",
       "\n",
       "    .dataframe thead th {\n",
       "        text-align: right;\n",
       "    }\n",
       "</style>\n",
       "<table border=\"1\" class=\"dataframe\">\n",
       "  <thead>\n",
       "    <tr style=\"text-align: right;\">\n",
       "      <th></th>\n",
       "      <th>avg_spawns</th>\n",
       "      <th>candy</th>\n",
       "      <th>candy_count</th>\n",
       "      <th>egg</th>\n",
       "      <th>height</th>\n",
       "      <th>id</th>\n",
       "      <th>img</th>\n",
       "      <th>multipliers</th>\n",
       "      <th>name</th>\n",
       "      <th>next_evolution</th>\n",
       "      <th>num</th>\n",
       "      <th>prev_evolution</th>\n",
       "      <th>spawn_chance</th>\n",
       "      <th>spawn_time</th>\n",
       "      <th>type</th>\n",
       "      <th>weaknesses</th>\n",
       "      <th>weight</th>\n",
       "    </tr>\n",
       "  </thead>\n",
       "  <tbody>\n",
       "    <tr>\n",
       "      <th>0</th>\n",
       "      <td>69.0</td>\n",
       "      <td>Bulbasaur Candy</td>\n",
       "      <td>25.0</td>\n",
       "      <td>2 km</td>\n",
       "      <td>0.71 m</td>\n",
       "      <td>1</td>\n",
       "      <td>http://www.serebii.net/pokemongo/pokemon/001.png</td>\n",
       "      <td>[1.58]</td>\n",
       "      <td>Bulbasaur</td>\n",
       "      <td>[{'num': '002', 'name': 'Ivysaur'}, {'num': '0...</td>\n",
       "      <td>001</td>\n",
       "      <td>NaN</td>\n",
       "      <td>0.690</td>\n",
       "      <td>20:00</td>\n",
       "      <td>[Grass, Poison]</td>\n",
       "      <td>[Fire, Ice, Flying, Psychic]</td>\n",
       "      <td>6.9 kg</td>\n",
       "    </tr>\n",
       "    <tr>\n",
       "      <th>1</th>\n",
       "      <td>4.2</td>\n",
       "      <td>Bulbasaur Candy</td>\n",
       "      <td>100.0</td>\n",
       "      <td>Not in Eggs</td>\n",
       "      <td>0.99 m</td>\n",
       "      <td>2</td>\n",
       "      <td>http://www.serebii.net/pokemongo/pokemon/002.png</td>\n",
       "      <td>[1.2, 1.6]</td>\n",
       "      <td>Ivysaur</td>\n",
       "      <td>[{'num': '003', 'name': 'Venusaur'}]</td>\n",
       "      <td>002</td>\n",
       "      <td>[{'num': '001', 'name': 'Bulbasaur'}]</td>\n",
       "      <td>0.042</td>\n",
       "      <td>07:00</td>\n",
       "      <td>[Grass, Poison]</td>\n",
       "      <td>[Fire, Ice, Flying, Psychic]</td>\n",
       "      <td>13.0 kg</td>\n",
       "    </tr>\n",
       "    <tr>\n",
       "      <th>2</th>\n",
       "      <td>1.7</td>\n",
       "      <td>Bulbasaur Candy</td>\n",
       "      <td>NaN</td>\n",
       "      <td>Not in Eggs</td>\n",
       "      <td>2.01 m</td>\n",
       "      <td>3</td>\n",
       "      <td>http://www.serebii.net/pokemongo/pokemon/003.png</td>\n",
       "      <td>None</td>\n",
       "      <td>Venusaur</td>\n",
       "      <td>NaN</td>\n",
       "      <td>003</td>\n",
       "      <td>[{'num': '001', 'name': 'Bulbasaur'}, {'num': ...</td>\n",
       "      <td>0.017</td>\n",
       "      <td>11:30</td>\n",
       "      <td>[Grass, Poison]</td>\n",
       "      <td>[Fire, Ice, Flying, Psychic]</td>\n",
       "      <td>100.0 kg</td>\n",
       "    </tr>\n",
       "    <tr>\n",
       "      <th>3</th>\n",
       "      <td>25.3</td>\n",
       "      <td>Charmander Candy</td>\n",
       "      <td>25.0</td>\n",
       "      <td>2 km</td>\n",
       "      <td>0.61 m</td>\n",
       "      <td>4</td>\n",
       "      <td>http://www.serebii.net/pokemongo/pokemon/004.png</td>\n",
       "      <td>[1.65]</td>\n",
       "      <td>Charmander</td>\n",
       "      <td>[{'num': '005', 'name': 'Charmeleon'}, {'num':...</td>\n",
       "      <td>004</td>\n",
       "      <td>NaN</td>\n",
       "      <td>0.253</td>\n",
       "      <td>08:45</td>\n",
       "      <td>[Fire]</td>\n",
       "      <td>[Water, Ground, Rock]</td>\n",
       "      <td>8.5 kg</td>\n",
       "    </tr>\n",
       "    <tr>\n",
       "      <th>4</th>\n",
       "      <td>1.2</td>\n",
       "      <td>Charmander Candy</td>\n",
       "      <td>100.0</td>\n",
       "      <td>Not in Eggs</td>\n",
       "      <td>1.09 m</td>\n",
       "      <td>5</td>\n",
       "      <td>http://www.serebii.net/pokemongo/pokemon/005.png</td>\n",
       "      <td>[1.79]</td>\n",
       "      <td>Charmeleon</td>\n",
       "      <td>[{'num': '006', 'name': 'Charizard'}]</td>\n",
       "      <td>005</td>\n",
       "      <td>[{'num': '004', 'name': 'Charmander'}]</td>\n",
       "      <td>0.012</td>\n",
       "      <td>19:00</td>\n",
       "      <td>[Fire]</td>\n",
       "      <td>[Water, Ground, Rock]</td>\n",
       "      <td>19.0 kg</td>\n",
       "    </tr>\n",
       "  </tbody>\n",
       "</table>\n",
       "</div>"
      ],
      "text/plain": [
       "   avg_spawns             candy  candy_count          egg  height  id  \\\n",
       "0        69.0   Bulbasaur Candy         25.0         2 km  0.71 m   1   \n",
       "1         4.2   Bulbasaur Candy        100.0  Not in Eggs  0.99 m   2   \n",
       "2         1.7   Bulbasaur Candy          NaN  Not in Eggs  2.01 m   3   \n",
       "3        25.3  Charmander Candy         25.0         2 km  0.61 m   4   \n",
       "4         1.2  Charmander Candy        100.0  Not in Eggs  1.09 m   5   \n",
       "\n",
       "                                                img multipliers        name  \\\n",
       "0  http://www.serebii.net/pokemongo/pokemon/001.png      [1.58]   Bulbasaur   \n",
       "1  http://www.serebii.net/pokemongo/pokemon/002.png  [1.2, 1.6]     Ivysaur   \n",
       "2  http://www.serebii.net/pokemongo/pokemon/003.png        None    Venusaur   \n",
       "3  http://www.serebii.net/pokemongo/pokemon/004.png      [1.65]  Charmander   \n",
       "4  http://www.serebii.net/pokemongo/pokemon/005.png      [1.79]  Charmeleon   \n",
       "\n",
       "                                      next_evolution  num  \\\n",
       "0  [{'num': '002', 'name': 'Ivysaur'}, {'num': '0...  001   \n",
       "1               [{'num': '003', 'name': 'Venusaur'}]  002   \n",
       "2                                                NaN  003   \n",
       "3  [{'num': '005', 'name': 'Charmeleon'}, {'num':...  004   \n",
       "4              [{'num': '006', 'name': 'Charizard'}]  005   \n",
       "\n",
       "                                      prev_evolution  spawn_chance spawn_time  \\\n",
       "0                                                NaN         0.690      20:00   \n",
       "1              [{'num': '001', 'name': 'Bulbasaur'}]         0.042      07:00   \n",
       "2  [{'num': '001', 'name': 'Bulbasaur'}, {'num': ...         0.017      11:30   \n",
       "3                                                NaN         0.253      08:45   \n",
       "4             [{'num': '004', 'name': 'Charmander'}]         0.012      19:00   \n",
       "\n",
       "              type                    weaknesses    weight  \n",
       "0  [Grass, Poison]  [Fire, Ice, Flying, Psychic]    6.9 kg  \n",
       "1  [Grass, Poison]  [Fire, Ice, Flying, Psychic]   13.0 kg  \n",
       "2  [Grass, Poison]  [Fire, Ice, Flying, Psychic]  100.0 kg  \n",
       "3           [Fire]         [Water, Ground, Rock]    8.5 kg  \n",
       "4           [Fire]         [Water, Ground, Rock]   19.0 kg  "
      ]
     },
     "execution_count": 38,
     "metadata": {},
     "output_type": "execute_result"
    }
   ],
   "source": [
    "json_data = pd.read_json('pokedex.json')\n",
    "json_data = json_normalize(json_data['pokemon'])\n",
    "json_data.head()"
   ]
  },
  {
   "cell_type": "code",
   "execution_count": null,
   "metadata": {},
   "outputs": [],
   "source": []
  },
  {
   "cell_type": "code",
   "execution_count": 43,
   "metadata": {},
   "outputs": [],
   "source": [
    "from sklearn import datasets\n",
    "featureVectors, targets = datasets.make_classification(n_samples=100, n_features=20, n_informative=2, n_redundant=2, n_repeated=0, n_classes=2, n_clusters_per_class=2, weights=None, flip_y=0.01, class_sep=1.0, hypercube=True, shift=0.0, scale=1.0, shuffle=True, random_state=None)\n"
   ]
  },
  {
   "cell_type": "code",
   "execution_count": 44,
   "metadata": {},
   "outputs": [
    {
     "data": {
      "text/plain": [
       "array([[-1.74459968e+00, -5.77914581e-01,  1.25701577e+00, ...,\n",
       "        -6.75398891e-01, -6.55908754e-01, -5.28968812e-02],\n",
       "       [ 6.75129407e-01, -1.71509358e+00, -1.51561857e+00, ...,\n",
       "        -5.10808667e-04, -2.02399335e-01, -9.87175986e-01],\n",
       "       [-2.70735618e-01, -3.76791158e-01,  1.40272905e-01, ...,\n",
       "        -5.00283380e-01, -1.17967475e+00,  1.95534713e-01],\n",
       "       ...,\n",
       "       [ 6.44495467e-01, -2.88321550e-01, -5.10759720e-01, ...,\n",
       "        -9.77690182e-01, -6.37911437e-01, -1.35467531e-01],\n",
       "       [ 1.60603491e+00, -2.57248554e-01,  4.15745193e-01, ...,\n",
       "        -3.04713569e-01,  6.13792174e-03, -7.07671426e-01],\n",
       "       [-3.64713638e-01,  6.92506472e-01,  1.20996473e+00, ...,\n",
       "         3.96530745e-01,  1.13595503e+00,  1.56461100e+00]])"
      ]
     },
     "execution_count": 44,
     "metadata": {},
     "output_type": "execute_result"
    }
   ],
   "source": [
    "featureVectors"
   ]
  },
  {
   "cell_type": "code",
   "execution_count": 45,
   "metadata": {},
   "outputs": [
    {
     "data": {
      "text/plain": [
       "array([1, 0, 0, 0, 1, 0, 1, 1, 0, 0, 0, 0, 0, 1, 0, 0, 0, 1, 0, 1, 1, 1,\n",
       "       1, 1, 0, 0, 0, 1, 0, 0, 0, 1, 0, 1, 0, 1, 0, 0, 1, 1, 0, 1, 0, 0,\n",
       "       1, 1, 0, 0, 1, 1, 1, 1, 1, 1, 1, 0, 0, 1, 1, 1, 0, 1, 1, 1, 0, 0,\n",
       "       1, 0, 0, 0, 0, 0, 1, 0, 1, 1, 1, 1, 0, 0, 0, 0, 1, 1, 1, 0, 1, 0,\n",
       "       0, 1, 1, 1, 0, 1, 0, 0, 1, 1, 1, 0])"
      ]
     },
     "execution_count": 45,
     "metadata": {},
     "output_type": "execute_result"
    }
   ],
   "source": [
    "targets"
   ]
  },
  {
   "cell_type": "code",
   "execution_count": null,
   "metadata": {},
   "outputs": [],
   "source": []
  }
 ],
 "metadata": {
  "kernelspec": {
   "display_name": "Python 3",
   "language": "python",
   "name": "python3"
  },
  "language_info": {
   "codemirror_mode": {
    "name": "ipython",
    "version": 3
   },
   "file_extension": ".py",
   "mimetype": "text/x-python",
   "name": "python",
   "nbconvert_exporter": "python",
   "pygments_lexer": "ipython3",
   "version": "3.7.3"
  }
 },
 "nbformat": 4,
 "nbformat_minor": 2
}
