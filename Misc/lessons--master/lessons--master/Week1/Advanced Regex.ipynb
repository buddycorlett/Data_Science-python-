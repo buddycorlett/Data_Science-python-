{
 "cells": [
  {
   "cell_type": "code",
   "execution_count": 1,
   "metadata": {},
   "outputs": [],
   "source": [
    "import re"
   ]
  },
  {
   "cell_type": "markdown",
   "metadata": {},
   "source": [
    "### Characters"
   ]
  },
  {
   "cell_type": "code",
   "execution_count": 10,
   "metadata": {},
   "outputs": [
    {
     "data": {
      "text/plain": [
       "['T',\n",
       " 'h',\n",
       " 'a',\n",
       " 't',\n",
       " 'p',\n",
       " 'e',\n",
       " 'r',\n",
       " 's',\n",
       " 'o',\n",
       " 'n',\n",
       " 'w',\n",
       " 'e',\n",
       " 'a',\n",
       " 'r',\n",
       " 's',\n",
       " 'm',\n",
       " 'a',\n",
       " 'r',\n",
       " 'v',\n",
       " 'e',\n",
       " 'l',\n",
       " 'o',\n",
       " 'u',\n",
       " 's',\n",
       " 't',\n",
       " 'r',\n",
       " 'o',\n",
       " 'u',\n",
       " 's',\n",
       " 'e',\n",
       " 'r',\n",
       " 's']"
      ]
     },
     "execution_count": 10,
     "metadata": {},
     "output_type": "execute_result"
    }
   ],
   "source": [
    "text = \"That person wears marvelous trousers.\"\n",
    "\n",
    "# pattern = '[A-z]'\n",
    "# pattern = 'a'\n",
    "# pattern = '[atsdhksdgs]'\n",
    "# pattern = 'a'\n",
    "re.findall(pattern, text)"
   ]
  },
  {
   "cell_type": "code",
   "execution_count": 12,
   "metadata": {},
   "outputs": [
    {
     "data": {
      "text/plain": [
       "['e', 'r', 'e', 'r', 'r', 'e', 'r', 'e', 'r']"
      ]
     },
     "execution_count": 12,
     "metadata": {},
     "output_type": "execute_result"
    }
   ],
   "source": [
    "text = \"That person wears marvelous trousers.\"\n",
    "pattern = 'er'\n",
    "pattern = '[er]'\n",
    "re.findall(pattern, text)"
   ]
  },
  {
   "cell_type": "code",
   "execution_count": null,
   "metadata": {},
   "outputs": [],
   "source": [
    "pattern = '[er]'\n",
    "re.findall(pattern, text)"
   ]
  },
  {
   "cell_type": "code",
   "execution_count": 13,
   "metadata": {},
   "outputs": [
    {
     "data": {
      "text/plain": [
       "['gray', 'grey']"
      ]
     },
     "execution_count": 13,
     "metadata": {},
     "output_type": "execute_result"
    }
   ],
   "source": [
    "text = \"Is it spelled gray or grey?\"\n",
    "\n",
    "pattern = 'gr[ae]y'\n",
    "re.findall(pattern, text)"
   ]
  },
  {
   "cell_type": "code",
   "execution_count": 21,
   "metadata": {},
   "outputs": [
    {
     "data": {
      "text/plain": [
       "['T',\n",
       " 'h',\n",
       " 'i',\n",
       " 's',\n",
       " ' ',\n",
       " 'i',\n",
       " 's',\n",
       " ' ',\n",
       " 'a',\n",
       " 'n',\n",
       " ' ',\n",
       " ' ',\n",
       " 'a',\n",
       " 'n',\n",
       " 'd',\n",
       " ' ',\n",
       " ' ',\n",
       " 'c',\n",
       " 'o',\n",
       " 'n',\n",
       " 'v',\n",
       " 'e',\n",
       " 'r',\n",
       " 's',\n",
       " 'a',\n",
       " 't',\n",
       " 'i',\n",
       " 'o',\n",
       " 'n',\n",
       " ',',\n",
       " ' ',\n",
       " 's',\n",
       " 'o',\n",
       " ' ',\n",
       " ' ',\n",
       " 'y',\n",
       " 'o',\n",
       " 'u',\n",
       " 'r',\n",
       " ' ',\n",
       " 'w',\n",
       " 'a',\n",
       " 'y',\n",
       " ' ',\n",
       " 'o',\n",
       " 'u',\n",
       " 't',\n",
       " ' ',\n",
       " 'o',\n",
       " 'f',\n",
       " ' ',\n",
       " 'i',\n",
       " 't',\n",
       " '.']"
      ]
     },
     "execution_count": 21,
     "metadata": {},
     "output_type": "execute_result"
    }
   ],
   "source": [
    "text = \"This is an A and B conversation, so C your way out of it.\"\n",
    "\n",
    "pattern = '[^A-C]'\n",
    "re.findall(pattern, text)"
   ]
  },
  {
   "cell_type": "code",
   "execution_count": 15,
   "metadata": {},
   "outputs": [
    {
     "data": {
      "text/plain": [
       "['1', '2', '3']"
      ]
     },
     "execution_count": 15,
     "metadata": {},
     "output_type": "execute_result"
    }
   ],
   "source": [
    "text = \"I'm not going to the party because 1) Karen is going, 2) I don't like her, and 3) I already have a headache.\"\n",
    "\n",
    "pattern = '[1-3]'\n",
    "re.findall(pattern, text)"
   ]
  },
  {
   "cell_type": "code",
   "execution_count": null,
   "metadata": {},
   "outputs": [],
   "source": []
  },
  {
   "cell_type": "markdown",
   "metadata": {},
   "source": [
    "### Meta Characters"
   ]
  },
  {
   "cell_type": "code",
   "execution_count": 25,
   "metadata": {},
   "outputs": [
    {
     "name": "stdout",
     "output_type": "stream",
     "text": [
      "['M', 'y', ' ', 'n', 'a', 'm', 'e', ' ', 'i', 's', '\"', ' ', 'H', 'i', '\"', 'm', \"'\", 'a', 'n', 'j', 's', 'h', 'u', ' ', 'I', 'r', 'o', 'n', 'h', 'a', 'n', 'c', 'a', 'd', 'a', 's', 'd', 'a', 'f']\n"
     ]
    }
   ],
   "source": [
    "text = \"My boss asked me to turn in my TPS reports. \\n I told him they were done, but they are not.\"\n",
    "txt = '''\n",
    "\n",
    "My name is\" Hi\"m'anjshu \n",
    "\n",
    "Ironhanca\n",
    "\n",
    "dasdaf\n",
    "\n",
    "'''\n",
    "pattern = '.'\n",
    "\n",
    "# pattern = '[.]'\n",
    "\n",
    "print(re.findall(pattern, txt))"
   ]
  },
  {
   "cell_type": "code",
   "execution_count": null,
   "metadata": {},
   "outputs": [],
   "source": [
    "txt\n",
    "print(re.findall(pattern, txt))"
   ]
  },
  {
   "cell_type": "code",
   "execution_count": 26,
   "metadata": {},
   "outputs": [
    {
     "name": "stdout",
     "output_type": "stream",
     "text": [
      "['M', 'y', ' ', 'b', 'o', 's', 's', ' ', 'a', 's', 'k', 'e', 'd', ' ', ' ', 'm', 'e', ' ', 't', 'o', ' ', 't', 'u', 'r', 'n', ' ', 'i', 'n', ' ', 'm', 'y', ' ', 'T', 'P', 'S', ' ', 'r', 'e', 'p', 'o', 'r', 't', 's', '.', ' ', '\\n', ' ', 'I', ' ', 't', 'o', 'l', 'd', ' ', 'h', 'i', 'm', ' ', 't', 'h', 'e', 'y', ' ', 'w', 'e', 'r', 'e', ' ', 'd', 'o', 'n', 'e', ',', ' ', 'b', 'u', 't', ' ', 't', 'h', 'e', 'y', ' ', 'a', 'r', 'e', ' ', 'n', 'o', 't', '.']\n"
     ]
    }
   ],
   "source": [
    "text = \"My boss asked 777 me to turn in my TPS reports. \\n I told him they were done, but they are not.\"\n",
    "pattern = '[^\\d]'\n",
    "print(re.findall(pattern, text))"
   ]
  },
  {
   "cell_type": "code",
   "execution_count": null,
   "metadata": {},
   "outputs": [],
   "source": [
    "text = \"My boss asked me to turn in my TPS reports. \\n I told him they were done, but they are not.\"\n",
    "pattern = \n",
    "print(re.findall(pattern, text))\n"
   ]
  },
  {
   "cell_type": "code",
   "execution_count": 43,
   "metadata": {},
   "outputs": [],
   "source": [
    "text = \"My  asked boss me to turn in my TPS reports. \\n I told him they were done, but they are not.\""
   ]
  },
  {
   "cell_type": "code",
   "execution_count": 33,
   "metadata": {},
   "outputs": [
    {
     "name": "stdout",
     "output_type": "stream",
     "text": [
      "['M', 'y', ' ', 'b', 'o', 's', 's', ' ', 'a', 's', 'k', 'e', 'd', ' ', 'm', 'e', ' ', 't', 'o', ' ', 't', 'u', 'r', 'n', ' ', 'i', 'n', ' ', 'm', 'y', ' ', 'T', 'P', 'S', ' ', 'r', 'e', 'p', 'o', 'r', 't', 's', '.', ' ', '\\n', ' ', 'I', ' ', 't', 'o', 'l', 'd', ' ', 'h', 'i', 'm', ' ', 't', 'h', 'e', 'y', ' ', 'w', 'e', 'r', 'e', ' ', 'd', 'o', 'n', 'e', ',', ' ', 'b', 'u', 't', ' ', 't', 'h', 'e', 'y', ' ', 'a', 'r', 'e', ' ', 'n', 'o', 't', '.']\n"
     ]
    }
   ],
   "source": [
    "pattern = '[^A]'\n",
    "print(re.findall(pattern, text))"
   ]
  },
  {
   "cell_type": "code",
   "execution_count": 34,
   "metadata": {},
   "outputs": [
    {
     "data": {
      "text/plain": [
       "'My boss asked me to turn in my TPS reports. \\n I told him they were done, but they are not.'"
      ]
     },
     "execution_count": 34,
     "metadata": {},
     "output_type": "execute_result"
    }
   ],
   "source": [
    "text"
   ]
  },
  {
   "cell_type": "code",
   "execution_count": 37,
   "metadata": {},
   "outputs": [
    {
     "name": "stdout",
     "output_type": "stream",
     "text": [
      "['not.']\n"
     ]
    }
   ],
   "source": [
    "pattern = 'not.$'\n",
    "print(re.findall(pattern, text))"
   ]
  },
  {
   "cell_type": "code",
   "execution_count": 44,
   "metadata": {},
   "outputs": [
    {
     "data": {
      "text/plain": [
       "'My  asked boss me to turn in my TPS reports. \\n I told him they were done, but they are not.'"
      ]
     },
     "execution_count": 44,
     "metadata": {},
     "output_type": "execute_result"
    }
   ],
   "source": [
    "text"
   ]
  },
  {
   "cell_type": "code",
   "execution_count": 45,
   "metadata": {},
   "outputs": [
    {
     "name": "stdout",
     "output_type": "stream",
     "text": [
      "['s', 'e', 'boss', 'e', 't', 'o', 't', 'r', 'TPS', 'r', 'e', 'p', 'o', 'r', 't', 's', 't', 'o', 't', 'e', 'e', 'r', 'e', 'o', 'e', 't', 't', 'e', 'r', 'e', 'o', 't']\n"
     ]
    }
   ],
   "source": [
    "pattern = 'TPS|[reports]|boss'\n",
    "print(re.findall(pattern, text))"
   ]
  },
  {
   "cell_type": "markdown",
   "metadata": {},
   "source": [
    "### Quantifiers"
   ]
  },
  {
   "cell_type": "raw",
   "metadata": {},
   "source": [
    "\n",
    "    *: Matches previous character 0 or more times\n",
    "    +: Matches previous character 1 or more times\n",
    "    ?: Matches previous character 0 or 1 times (optional)\n",
    "    {}: Matches previous characters however many times specified within:\n",
    "        {n} : Exactly n times\n",
    "        {n,} : At least n times\n",
    "        {n,m} : Between n and m times\n"
   ]
  },
  {
   "cell_type": "code",
   "execution_count": 47,
   "metadata": {},
   "outputs": [
    {
     "name": "stdout",
     "output_type": "stream",
     "text": [
      "['t', 'caat', 't', 'ct', 't', 't', 't', 'cat', 'ct', 'ct']\n"
     ]
    }
   ],
   "source": [
    "text = \"The complicit caat interacted with the other cats exactly as we expected.\"\n",
    "\n",
    "pattern = 'c*a*t'\n",
    "print(re.findall(pattern, text))"
   ]
  },
  {
   "cell_type": "code",
   "execution_count": 48,
   "metadata": {},
   "outputs": [
    {
     "name": "stdout",
     "output_type": "stream",
     "text": [
      "['t', 't', 't', 'ct', 't', 't', 't', 't', 'ct', 'ct']\n"
     ]
    }
   ],
   "source": [
    "text = \"The complicit caat interacted with the other cats exactly as we expected.\"\n",
    "pattern = \"c*t\"\n",
    "print(re.findall(pattern, text))"
   ]
  },
  {
   "cell_type": "code",
   "execution_count": 52,
   "metadata": {},
   "outputs": [
    {
     "name": "stdout",
     "output_type": "stream",
     "text": [
      "['aaaa', 'a', 'a', 'a', 'a']\n"
     ]
    }
   ],
   "source": [
    "text = \"The complicit caaaat ct interacted with the other cats exactly as we expected.\"\n",
    "pattern = \"a+\"\n",
    "print(re.findall(pattern, text))\n",
    "#returns matches where the previous character appears 1 or more times"
   ]
  },
  {
   "cell_type": "code",
   "execution_count": 54,
   "metadata": {},
   "outputs": [
    {
     "name": "stdout",
     "output_type": "stream",
     "text": [
      "['color', 'color']\n"
     ]
    }
   ],
   "source": [
    "text = \"Is the correct spelling color or colour?\"\n",
    "pattern = \"colou?r\"\n",
    "print(re.findall(pattern, text))"
   ]
  },
  {
   "cell_type": "code",
   "execution_count": 60,
   "metadata": {},
   "outputs": [
    {
     "name": "stdout",
     "output_type": "stream",
     "text": [
      "['awww', 'awww', 'awww', 'awww']\n"
     ]
    }
   ],
   "source": [
    "text = \"We can match the following: aaaawwww, aww, awww, awwww, awwwww\"\n",
    "\n",
    "pattern = \"aw{3}\"\n",
    "print(re.findall(pattern, text))"
   ]
  },
  {
   "cell_type": "code",
   "execution_count": 61,
   "metadata": {},
   "outputs": [
    {
     "name": "stdout",
     "output_type": "stream",
     "text": [
      "['awwww', 'aww', 'awww', 'awwww', 'awwwww']\n"
     ]
    }
   ],
   "source": [
    "pattern = \"aw{1,}\"\n",
    "print(re.findall(pattern, text))"
   ]
  },
  {
   "cell_type": "code",
   "execution_count": 62,
   "metadata": {},
   "outputs": [
    {
     "name": "stdout",
     "output_type": "stream",
     "text": [
      "['awww', 'aww', 'awww', 'awww', 'awww']\n"
     ]
    }
   ],
   "source": [
    "pattern = \"aw{2,3}\"\n",
    "print(re.findall(pattern, text))"
   ]
  },
  {
   "cell_type": "code",
   "execution_count": 63,
   "metadata": {},
   "outputs": [
    {
     "name": "stdout",
     "output_type": "stream",
     "text": [
      "['aaww', 'aawww']\n"
     ]
    }
   ],
   "source": [
    "text = \"Let's see how we can match the following: aaw, aaww, aawww, awwww, awwwww\"\n",
    "\n",
    "pattern = \"a{2,}w{2,}\"\n",
    "print(re.findall(pattern, text))"
   ]
  },
  {
   "cell_type": "markdown",
   "metadata": {},
   "source": [
    "### Character Specials"
   ]
  },
  {
   "cell_type": "raw",
   "metadata": {},
   "source": [
    "We already learnt about the common character patterns before:\n",
    "     \\w: Any alphanumeric character.\n",
    "    \\W: Any non-alphanumeric character.\n",
    "    \\d: Any numeric character.\n",
    "    \\D: Any non-numeric character.\n",
    "    \\s: Any whitespace characters.\n",
    "    \\S: Any non-whitespace characters."
   ]
  },
  {
   "cell_type": "code",
   "execution_count": 2,
   "metadata": {},
   "outputs": [
    {
     "name": "stdout",
     "output_type": "stream",
     "text": [
      "['I', 'f', ' ', 'y', 'o', 'u', ' ', 't', 'e', 'l', 'l', ' ', 't', 'h', 'e', ' ', 't', 'r', 'u', 't', 'h', ',', ' ', 'y', 'o', 'u', ' ', 'd', 'o', 'n', \"'\", 't', ' ', 'h', 'a', 'v', 'e', ' ', 't', 'o', ' ', 'r', 'e', 'm', 'e', 'm', 'b', 'e', 'r', ' ', 'a', 'n', 'y', 't', 'h', 'i', 'n', 'g', ' ', '1', '0', '0', '.']\n"
     ]
    }
   ],
   "source": [
    "import re\n",
    "text = \"If you tell the truth, you don't have to remember anything 100.\"\n",
    "\n",
    "# pattern = '\\w'\n",
    "# pattern = '\\w+'\n",
    "# pattern = '\\w*'\n",
    "# pattern = '\\w?'\n",
    "pattern = '.'\n",
    "print(re.findall(pattern, text))"
   ]
  },
  {
   "cell_type": "code",
   "execution_count": 76,
   "metadata": {},
   "outputs": [
    {
     "data": {
      "text/plain": [
       "\"I f   y o u   t e l l   t h e   t r u t h ,   y o u   d o n ' t   h a v e   t o   r e m e m b e r   a n y t h i n g   1 0 0 .\""
      ]
     },
     "execution_count": 76,
     "metadata": {},
     "output_type": "execute_result"
    }
   ],
   "source": [
    "\" \".join(re.findall('.', text))"
   ]
  },
  {
   "cell_type": "code",
   "execution_count": 77,
   "metadata": {},
   "outputs": [
    {
     "name": "stdout",
     "output_type": "stream",
     "text": [
      "['tell', 'truth', 'have', 'remember', 'anything']\n"
     ]
    }
   ],
   "source": [
    "pattern = '\\w{4}'\n",
    "pattern = '\\w{4,}'\n",
    "print(re.findall(pattern, text))"
   ]
  },
  {
   "cell_type": "code",
   "execution_count": null,
   "metadata": {},
   "outputs": [],
   "source": [
    "pattern = '\\w{4}'\n",
    "print(re.findall(pattern, text))"
   ]
  },
  {
   "cell_type": "markdown",
   "metadata": {},
   "source": [
    "Extracting Capitalized Words from Text (PROPER NOUNS)"
   ]
  },
  {
   "cell_type": "code",
   "execution_count": 82,
   "metadata": {},
   "outputs": [
    {
     "name": "stdout",
     "output_type": "stream",
     "text": [
      "['Kerra', 'Power', 'Bill', 'Gates', 'China', 'Trump']\n"
     ]
    }
   ],
   "source": [
    "text = '''TKerraPower, A nuclear-energy company founded by Bill Gates, \n",
    "        is unlikely to follow through on building a demonstration reactor in China,\n",
    "        due largely to the Trump administration’s crackdown on the country'''\n",
    "\n",
    "pattern = '[A-Z][a-z]*'\n",
    "pattern = '[A-z]+'\n",
    "pattern = '[A-Z][a-z]+'\n",
    "print(re.findall(pattern, text))"
   ]
  },
  {
   "cell_type": "code",
   "execution_count": 87,
   "metadata": {},
   "outputs": [
    {
     "name": "stdout",
     "output_type": "stream",
     "text": [
      "['FgkvkbvhR', 'FR']\n"
     ]
    }
   ],
   "source": [
    "txt = 'Ada asd bgh FgkvkbvhR FR'\n",
    "pattern = '[A-Z][a-z]*[A-Z]'\n",
    "print(re.findall(pattern, txt))"
   ]
  },
  {
   "cell_type": "code",
   "execution_count": 93,
   "metadata": {},
   "outputs": [
    {
     "name": "stdout",
     "output_type": "stream",
     "text": [
      "['KerraPower', 'Bill Gates', 'China', 'Trump']\n"
     ]
    }
   ],
   "source": [
    "text = '''TKerraPower, A nuclear-energy company founded by Bill Gates,\n",
    "        is unlikely to follow through on building a demonstration reactor in China,\n",
    "        due largely to the Trump administration’s crackdown on the country'''\n",
    "\n",
    "\n",
    "pattern = '([A-Z][a-z]+ ?[A-Z][a-z]+)|([A-Z][a-z]+)'\n",
    "pattern = '[A-Z][a-z]+ ?[A-Z][a-z]+|[A-Z][a-z]+'\n",
    "print(re.findall(pattern, text))\n",
    "\n",
    "# When you approach problems like this , break the problem into smaller problems \n",
    "# and solve each problem"
   ]
  },
  {
   "cell_type": "code",
   "execution_count": 95,
   "metadata": {},
   "outputs": [
    {
     "name": "stdout",
     "output_type": "stream",
     "text": [
      "[]\n"
     ]
    }
   ],
   "source": [
    "pattern1 = '[A-Z][a-z]+ ?[A-Z][a-z]+'\n",
    "pattern2 = '|[A-Z][a-z]+'\n",
    "pattern = pattern1 + pattern2  # -- Question can we add two patterns \n",
    "print(re.findall(pattern, text))"
   ]
  },
  {
   "cell_type": "markdown",
   "metadata": {},
   "source": [
    "\n",
    "Same result obtained through a more complicated code:\n",
    "    "
   ]
  },
  {
   "cell_type": "code",
   "execution_count": 96,
   "metadata": {},
   "outputs": [
    {
     "data": {
      "text/plain": [
       "['KerraPower', 'Bill Gates', 'China', 'Trump']"
      ]
     },
     "execution_count": 96,
     "metadata": {},
     "output_type": "execute_result"
    }
   ],
   "source": [
    "pattern = '([A-Z][a-z]+ ?[A-Z][a-z]+)|([A-Z][a-z]+)'\n",
    "results = [i for j in re.findall(pattern, text) for i in j if i != '']\n",
    "results"
   ]
  },
  {
   "cell_type": "raw",
   "metadata": {},
   "source": [
    "Extracting Quotes from Text"
   ]
  },
  {
   "cell_type": "code",
   "execution_count": null,
   "metadata": {},
   "outputs": [],
   "source": []
  },
  {
   "cell_type": "code",
   "execution_count": 109,
   "metadata": {},
   "outputs": [
    {
     "data": {
      "text/plain": [
       "[]"
      ]
     },
     "execution_count": 109,
     "metadata": {},
     "output_type": "execute_result"
    }
   ],
   "source": [
    "import re\n",
    "text = '''\n",
    "\n",
    "For eight young men the AP tracked down in Seattle, \n",
    "tech obsession has become something much darker, \n",
    "getting in the way of their normal lives. \n",
    "\"We’re talking \n",
    "flunk-your-classes, can’t-find-a-job, live-in-a-dark-hole\n",
    "kinds of problems, with depression, anxiety and sometimes \n",
    "suicidal thoughts part of the mix.\"\n",
    "the AP's Martha Irvine reports.\n",
    "\n",
    "'''\n",
    "\n",
    "pattern = '\".*\"'\n",
    "re.findall(pattern, text)"
   ]
  },
  {
   "cell_type": "code",
   "execution_count": null,
   "metadata": {},
   "outputs": [],
   "source": [
    "text"
   ]
  },
  {
   "cell_type": "code",
   "execution_count": null,
   "metadata": {},
   "outputs": [],
   "source": [
    "type(re.findall(pattern, text))"
   ]
  },
  {
   "cell_type": "code",
   "execution_count": 107,
   "metadata": {},
   "outputs": [
    {
     "data": {
      "text/plain": [
       "['\"And this is a string \"']"
      ]
     },
     "execution_count": 107,
     "metadata": {},
     "output_type": "execute_result"
    }
   ],
   "source": [
    "text = '''My name is HImanshu Aggarwal. \n",
    "  \"And this is a string \"    '''\n",
    "pattern = '\".*\"'\n",
    "re.findall(pattern, text)"
   ]
  },
  {
   "cell_type": "code",
   "execution_count": 110,
   "metadata": {},
   "outputs": [
    {
     "data": {
      "text/plain": [
       "['888-247-2262',\n",
       " '888-247-2262',\n",
       " '800-567-6567',\n",
       " '800-361-2965',\n",
       " '800-661-0407',\n",
       " '888-545-6794']"
      ]
     },
     "execution_count": 110,
     "metadata": {},
     "output_type": "execute_result"
    }
   ],
   "source": [
    "text = \"\"\"\n",
    "Aeromexico 800 -237- 6639\n",
    "Air Canada 888-247-2262\n",
    "Air Canada Rouge 888-247-2262\n",
    "Air Creebec 800-567-6567\n",
    "Air Inuit 800-361-2965\n",
    "Air North 800-661-0407\n",
    "Air Tindi 888-545-6794\"\"\"\n",
    "pattern = '\\d+-\\d+-\\d+'\n",
    "re.findall(pattern, text)"
   ]
  },
  {
   "cell_type": "raw",
   "metadata": {},
   "source": [
    "QUICK QUIZ \n",
    "\n",
    "What if the numbers are not formatted well for eg there's some misalignement in terms of spaces\n",
    "\n",
    "text = \"\"\"\n",
    "Aeromexico 800 - 237 - 6639\n",
    "Air Canada 888- 247-2262\n",
    "Air Canada Rouge 888-247-2262\n",
    "Air Creebec 800-567-6567\n",
    "Air Inuit 800-361-2965\n",
    "Air North 800-661-0407\n",
    "Air Tindi 888-545-6794\"\"\""
   ]
  },
  {
   "cell_type": "code",
   "execution_count": 2,
   "metadata": {},
   "outputs": [
    {
     "data": {
      "text/plain": [
       "['800 - 237 - 6639',\n",
       " '888- 247-2262',\n",
       " '888-247-2262',\n",
       " '800-567-6567',\n",
       " '800-361-2965',\n",
       " '800-661-0407',\n",
       " '888-545-6794']"
      ]
     },
     "execution_count": 2,
     "metadata": {},
     "output_type": "execute_result"
    }
   ],
   "source": [
    "import re\n",
    "text = \"\"\"\n",
    "Aeromexico 800 - 237 - 6639\n",
    "Air Canada 888- 247-2262\n",
    "Air Canada Rouge 888-247-2262\n",
    "Air Creebec 800-567-6567\n",
    "Air Inuit 800-361-2965\n",
    "Air North 800-661-0407\n",
    "Air Tindi 888-545-6794\"\"\"\n",
    "\n",
    "pattern = '\\d+\\s*-\\s*\\d+\\s*-\\s*\\d+'\n",
    "re.findall(pattern, text)"
   ]
  },
  {
   "cell_type": "code",
   "execution_count": null,
   "metadata": {},
   "outputs": [],
   "source": []
  }
 ],
 "metadata": {
  "kernelspec": {
   "display_name": "Python 3",
   "language": "python",
   "name": "python3"
  },
  "language_info": {
   "codemirror_mode": {
    "name": "ipython",
    "version": 3
   },
   "file_extension": ".py",
   "mimetype": "text/x-python",
   "name": "python",
   "nbconvert_exporter": "python",
   "pygments_lexer": "ipython3",
   "version": "3.7.3"
  }
 },
 "nbformat": 4,
 "nbformat_minor": 2
}
