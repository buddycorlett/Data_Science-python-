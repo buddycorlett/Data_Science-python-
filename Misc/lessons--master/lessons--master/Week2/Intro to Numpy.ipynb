{
 "cells": [
  {
   "cell_type": "code",
   "execution_count": 1,
   "metadata": {},
   "outputs": [],
   "source": [
    "import numpy as np"
   ]
  },
  {
   "cell_type": "code",
   "execution_count": 2,
   "metadata": {},
   "outputs": [
    {
     "name": "stdout",
     "output_type": "stream",
     "text": [
      "[[0.79117393 0.50498197 0.34724004 0.66214946]\n",
      " [0.40485767 0.01630873 0.65964645 0.69130847]\n",
      " [0.70786234 0.90255382 0.20639763 0.49015411]\n",
      " [0.74805942 0.68862878 0.30103593 0.21195972]\n",
      " [0.52021083 0.11000687 0.82275085 0.30737782]\n",
      " [0.47137144 0.35510304 0.75042162 0.6929952 ]\n",
      " [0.49711691 0.68518943 0.68834225 0.90050422]\n",
      " [0.69767368 0.36171533 0.49799284 0.19359057]\n",
      " [0.88082776 0.70037832 0.32067581 0.02152991]\n",
      " [0.98302266 0.27610497 0.91041363 0.40676196]]\n"
     ]
    }
   ],
   "source": [
    "a = np.random.random((10,4))\n",
    "print(a)"
   ]
  },
  {
   "cell_type": "code",
   "execution_count": 3,
   "metadata": {},
   "outputs": [
    {
     "data": {
      "text/plain": [
       "numpy.ndarray"
      ]
     },
     "execution_count": 3,
     "metadata": {},
     "output_type": "execute_result"
    }
   ],
   "source": [
    "type(a)"
   ]
  },
  {
   "cell_type": "code",
   "execution_count": 4,
   "metadata": {},
   "outputs": [
    {
     "name": "stdout",
     "output_type": "stream",
     "text": [
      "(10, 4)\n",
      "40\n"
     ]
    }
   ],
   "source": [
    "print(a.shape)\n",
    "print(a.size)"
   ]
  },
  {
   "cell_type": "code",
   "execution_count": 5,
   "metadata": {},
   "outputs": [
    {
     "name": "stdout",
     "output_type": "stream",
     "text": [
      "[0.59988092 0.3676912  0.77080995 0.63510278 0.86478576 0.03591815\n",
      " 0.73722276 0.33792407 0.63856534 0.9996965 ]\n",
      "[ 0.54413271  1.23440762 -0.44649622 -0.76296034  0.97756419 -1.16503942\n",
      " -0.18694792 -1.24102202  0.69488022 -0.34154885]\n"
     ]
    }
   ],
   "source": [
    "print(np.random.rand(10))\n",
    "print(np.random.randn(10))"
   ]
  },
  {
   "cell_type": "code",
   "execution_count": 6,
   "metadata": {},
   "outputs": [],
   "source": [
    "np.random.seed(0) "
   ]
  },
  {
   "cell_type": "code",
   "execution_count": 7,
   "metadata": {},
   "outputs": [
    {
     "data": {
      "text/plain": [
       "0.7911739330596584"
      ]
     },
     "execution_count": 7,
     "metadata": {},
     "output_type": "execute_result"
    }
   ],
   "source": [
    "a[0,0]"
   ]
  },
  {
   "cell_type": "code",
   "execution_count": 8,
   "metadata": {},
   "outputs": [
    {
     "data": {
      "text/plain": [
       "array([0.79117393, 0.50498197, 0.34724004, 0.66214946])"
      ]
     },
     "execution_count": 8,
     "metadata": {},
     "output_type": "execute_result"
    }
   ],
   "source": [
    "a[0]"
   ]
  },
  {
   "cell_type": "code",
   "execution_count": 9,
   "metadata": {},
   "outputs": [
    {
     "data": {
      "text/plain": [
       "array([0.79117393, 0.50498197, 0.34724004, 0.66214946])"
      ]
     },
     "execution_count": 9,
     "metadata": {},
     "output_type": "execute_result"
    }
   ],
   "source": [
    "a[0,:]"
   ]
  },
  {
   "cell_type": "code",
   "execution_count": 10,
   "metadata": {},
   "outputs": [
    {
     "data": {
      "text/plain": [
       "array([0.79117393, 0.40485767, 0.70786234, 0.74805942, 0.52021083,\n",
       "       0.47137144, 0.49711691, 0.69767368, 0.88082776, 0.98302266])"
      ]
     },
     "execution_count": 10,
     "metadata": {},
     "output_type": "execute_result"
    }
   ],
   "source": [
    "a[:,0]"
   ]
  },
  {
   "cell_type": "code",
   "execution_count": null,
   "metadata": {},
   "outputs": [],
   "source": []
  }
 ],
 "metadata": {
  "kernelspec": {
   "display_name": "Python 3",
   "language": "python",
   "name": "python3"
  },
  "language_info": {
   "codemirror_mode": {
    "name": "ipython",
    "version": 3
   },
   "file_extension": ".py",
   "mimetype": "text/x-python",
   "name": "python",
   "nbconvert_exporter": "python",
   "pygments_lexer": "ipython3",
   "version": "3.6.8"
  }
 },
 "nbformat": 4,
 "nbformat_minor": 2
}
