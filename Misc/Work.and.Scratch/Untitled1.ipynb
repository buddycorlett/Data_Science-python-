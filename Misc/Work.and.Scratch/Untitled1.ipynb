{
 "cells": [
  {
   "cell_type": "code",
   "execution_count": 1,
   "metadata": {},
   "outputs": [],
   "source": [
    "import numpy as np \n",
    "import random \n",
    "\n",
    "a = np.random.random((2,3,5))\n",
    "\n",
    "\n",
    "b = np.full((5,3,2),1)\n",
    "\n",
    "\n",
    "c = np.transpose(b)\n",
    "\n",
    "\n",
    "d = np.add(a,c)"
   ]
  },
  {
   "cell_type": "code",
   "execution_count": 2,
   "metadata": {},
   "outputs": [],
   "source": [
    "e = np.multiply(a,c)"
   ]
  },
  {
   "cell_type": "code",
   "execution_count": 3,
   "metadata": {},
   "outputs": [],
   "source": [
    "d_mean = np.mean(d)"
   ]
  },
  {
   "cell_type": "code",
   "execution_count": 4,
   "metadata": {},
   "outputs": [],
   "source": [
    "d_max = np.max(d)\n",
    "d_min = np.min(d)"
   ]
  },
  {
   "cell_type": "code",
   "execution_count": 5,
   "metadata": {},
   "outputs": [],
   "source": [
    "f = np.zeros([2,3,5])"
   ]
  },
  {
   "cell_type": "code",
   "execution_count": 11,
   "metadata": {},
   "outputs": [
    {
     "name": "stdout",
     "output_type": "stream",
     "text": [
      "[[[1.03417993 1.96410461 1.89701853 1.68587593 1.75444061]\n",
      "  [1.77167905 1.56113095 1.99312875 1.77842559 1.91527643]\n",
      "  [1.24793608 1.14723093 1.49228044 1.21958937 1.20979877]]\n",
      "\n",
      " [[1.56162478 1.87980589 1.2221157  1.94868763 1.60077371]\n",
      "  [1.47436511 1.05972495 1.74804196 1.91939737 1.47082823]\n",
      "  [1.78730863 1.80281217 1.79861798 1.13473347 1.62288594]]]\n",
      "[[[  0.  75.  75.  75.  75.]\n",
      "  [ 75.  25. 100.  75.  75.]\n",
      "  [ 25.  25.  25.  25.  25.]]\n",
      "\n",
      " [[ 25.  75.  25.  75.  75.]\n",
      "  [ 25.  25.  75.  75.  25.]\n",
      "  [ 75.  75.  75.  25.  75.]]]\n"
     ]
    }
   ],
   "source": [
    "for a in range(len(d)):\n",
    "    for i in range(len(d[a])):\n",
    "        for j in range(len(d[a][i])):\n",
    "            if d[a][i][j] > d_min and d[a][i][j] < d_mean:\n",
    "                f[a][i][j] = 25\n",
    "            elif d[a][i][j] > d_mean and d[a][i][j] < d_max:\n",
    "                f[a][i][j] = 75\n",
    "            elif d[a][i][j] == d_mean:\n",
    "                f[a][i][j] = 50\n",
    "            elif d[a][i][j] == d_min:\n",
    "                f[a][i][j] = 0\n",
    "            elif d[a][i][j] == d_max:\n",
    "                f[a][i][j] = 100\n",
    "print(d)\n",
    "print(f)\n",
    "            "
   ]
  },
  {
   "cell_type": "code",
   "execution_count": 8,
   "metadata": {},
   "outputs": [],
   "source": []
  },
  {
   "cell_type": "code",
   "execution_count": null,
   "metadata": {},
   "outputs": [],
   "source": []
  }
 ],
 "metadata": {
  "kernelspec": {
   "display_name": "Python 3",
   "language": "python",
   "name": "python3"
  },
  "language_info": {
   "codemirror_mode": {
    "name": "ipython",
    "version": 3
   },
   "file_extension": ".py",
   "mimetype": "text/x-python",
   "name": "python",
   "nbconvert_exporter": "python",
   "pygments_lexer": "ipython3",
   "version": "3.7.3"
  }
 },
 "nbformat": 4,
 "nbformat_minor": 2
}
