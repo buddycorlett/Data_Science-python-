{
 "cells": [
  {
   "cell_type": "code",
   "execution_count": 26,
   "metadata": {
    "scrolled": true
   },
   "outputs": [
    {
     "name": "stdout",
     "output_type": "stream",
     "text": [
      "<class 'numpy.str_'>\n",
      "[[[1.63989139 1.21337083 1.59121472 1.71774178 1.66571363]\n",
      "  [1.07146834 1.63405907 1.80372424 1.65559842 1.65935463]\n",
      "  [1.02055902 1.11230494 1.98079331 1.89285561 1.27613627]]\n",
      "\n",
      " [[1.69097215 1.02524223 1.60280553 1.95864361 1.97108597]\n",
      "  [1.39720595 1.17553983 1.10866307 1.60232459 1.82902087]\n",
      "  [1.73422943 1.12372197 1.23383206 1.84660495 1.70048192]]]\n",
      "1.690972146218836\n"
     ]
    }
   ],
   "source": [
    "import numpy as np \n",
    "import random \n",
    "\n",
    "a = np.random.random((2,3,5))\n",
    "\n",
    "\n",
    "b = np.full((5,3,2),1)\n",
    "\n",
    "\n",
    "c = np.transpose(b)\n",
    "\n",
    "\n",
    "d = np.add(a,c)\n",
    "# print(a,'\\n')\n",
    "\n",
    "# print(d, '\\n')\n",
    "\n",
    "e = np.multiply(a,c)\n",
    "\n",
    "# print(e, '\\n')\n",
    "\n",
    "d_mean = np.mean(d)\n",
    "# print(d_mean)\n",
    "# print(d_max)\n",
    "# print(d_min)\n",
    "d_max = np.max(d)\n",
    "d_min = np.min(d)\n",
    "\n",
    "f = np.full([2,3,5],\"\")\n",
    "\n",
    "print(type(f[0][0][0]))\n",
    "print(d)\n",
    "print(d[1][0][0])\n"
   ]
  },
  {
   "cell_type": "code",
   "execution_count": 29,
   "metadata": {},
   "outputs": [
    {
     "name": "stdout",
     "output_type": "stream",
     "text": [
      "[[['D' 'B' 'D' 'D' 'D']\n",
      "  ['B' 'D' 'D' 'D' 'D']\n",
      "  ['A' 'B' 'E' 'D' 'B']]\n",
      "\n",
      " [['D' 'B' 'D' 'D' 'D']\n",
      "  ['B' 'B' 'B' 'D' 'D']\n",
      "  ['D' 'B' 'B' 'D' 'D']]]\n"
     ]
    }
   ],
   "source": [
    "\n",
    "for a in range(len(d)):\n",
    "    for i in range(len(d[a])):\n",
    "        for j in range(len(d[a,i])):\n",
    "            if d[a][i][j] > d_min and d[a][i][j] < d_mean:\n",
    "                f[a][i][j] = 'B'\n",
    "            elif d[a][i][j] > d_mean and d[a][i][j] < d_max:\n",
    "                f[a][i][j] = 'D'\n",
    "            elif d[a][i][j] == d_mean:\n",
    "                f[a][i][j] = 'C'\n",
    "            elif d[a][i][j] == d_min:\n",
    "                f[a][i][j] = 'A'\n",
    "            elif d[a][i][j] == d_max:\n",
    "                f[a][i][j] = 'E'\n",
    "            \n",
    "print(f)\n",
    "\n"
   ]
  },
  {
   "cell_type": "code",
   "execution_count": null,
   "metadata": {},
   "outputs": [],
   "source": []
  }
 ],
 "metadata": {
  "kernelspec": {
   "display_name": "Python 3",
   "language": "python",
   "name": "python3"
  },
  "language_info": {
   "codemirror_mode": {
    "name": "ipython",
    "version": 3
   },
   "file_extension": ".py",
   "mimetype": "text/x-python",
   "name": "python",
   "nbconvert_exporter": "python",
   "pygments_lexer": "ipython3",
   "version": "3.7.3"
  }
 },
 "nbformat": 4,
 "nbformat_minor": 2
}
