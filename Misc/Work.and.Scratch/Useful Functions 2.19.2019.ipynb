{
 "cells": [
  {
   "cell_type": "code",
   "execution_count": 2,
   "metadata": {},
   "outputs": [
    {
     "ename": "SyntaxError",
     "evalue": "invalid syntax (<ipython-input-2-64382a66bc26>, line 5)",
     "output_type": "error",
     "traceback": [
      "\u001b[1;36m  File \u001b[1;32m\"<ipython-input-2-64382a66bc26>\"\u001b[1;36m, line \u001b[1;32m5\u001b[0m\n\u001b[1;33m    Def floaat(x):\u001b[0m\n\u001b[1;37m             ^\u001b[0m\n\u001b[1;31mSyntaxError\u001b[0m\u001b[1;31m:\u001b[0m invalid syntax\n"
     ]
    }
   ],
   "source": [
    "from functools import reduce\n",
    "##MAP-takes one value spits out one valuue\n",
    "\n",
    "map(function,iterable)\n",
    "\n",
    "Def floaat(x):\n",
    "    return (float(x))\n",
    "\n",
    "#eg\n",
    "\n",
    "map(float,list)\n",
    "\n",
    "##FILTER-Takes one value returns true or false\n",
    "\n",
    "filter(function, iterable)\n",
    "\n",
    "function = if x%2==0:\n",
    "\n",
    "##REDUCE-takes two elements returns 1\n",
    "\n",
    "reduce(function)"
   ]
  },
  {
   "cell_type": "code",
   "execution_count": 6,
   "metadata": {},
   "outputs": [],
   "source": [
    "from functools import reduce"
   ]
  },
  {
   "cell_type": "code",
   "execution_count": null,
   "metadata": {},
   "outputs": [],
   "source": []
  }
 ],
 "metadata": {
  "kernelspec": {
   "display_name": "Python 3",
   "language": "python",
   "name": "python3"
  },
  "language_info": {
   "codemirror_mode": {
    "name": "ipython",
    "version": 3
   },
   "file_extension": ".py",
   "mimetype": "text/x-python",
   "name": "python",
   "nbconvert_exporter": "python",
   "pygments_lexer": "ipython3",
   "version": "3.7.3"
  }
 },
 "nbformat": 4,
 "nbformat_minor": 2
}
