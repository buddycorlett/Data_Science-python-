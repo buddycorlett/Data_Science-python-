{
 "cells": [
  {
   "cell_type": "code",
   "execution_count": 1,
   "metadata": {},
   "outputs": [
    {
     "name": "stdout",
     "output_type": "stream",
     "text": [
      "1.16.4\n"
     ]
    }
   ],
   "source": [
    "import numpy as np\n",
    "print(np.__version__)"
   ]
  },
  {
   "cell_type": "code",
   "execution_count": 4,
   "metadata": {},
   "outputs": [
    {
     "name": "stdout",
     "output_type": "stream",
     "text": [
      "[[[0.7734496  0.48443852 0.12399255 0.8933886  0.73447545]\n",
      "  [0.28115437 0.92792289 0.3265745  0.11068663 0.89856342]\n",
      "  [0.75712902 0.80401089 0.51347435 0.93577708 0.23841688]]\n",
      "\n",
      " [[0.97262065 0.14636135 0.245201   0.82441566 0.44430673]\n",
      "  [0.91542106 0.49380911 0.1485938  0.94737807 0.68253289]\n",
      "  [0.76772837 0.21229681 0.95501834 0.86385289 0.47423332]]]\n"
     ]
    }
   ],
   "source": [
    "a = np.random.random([2,3,5])\n",
    "print(a)"
   ]
  },
  {
   "cell_type": "code",
   "execution_count": null,
   "metadata": {},
   "outputs": [],
   "source": []
  }
 ],
 "metadata": {
  "kernelspec": {
   "display_name": "Python 3",
   "language": "python",
   "name": "python3"
  },
  "language_info": {
   "codemirror_mode": {
    "name": "ipython",
    "version": 3
   },
   "file_extension": ".py",
   "mimetype": "text/x-python",
   "name": "python",
   "nbconvert_exporter": "python",
   "pygments_lexer": "ipython3",
   "version": "3.7.3"
  }
 },
 "nbformat": 4,
 "nbformat_minor": 2
}
