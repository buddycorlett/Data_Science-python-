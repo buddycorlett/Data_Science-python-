{
 "cells": [
  {
   "cell_type": "code",
   "execution_count": 11,
   "metadata": {},
   "outputs": [
    {
     "name": "stdout",
     "output_type": "stream",
     "text": [
      "{'login': 'ironhack-datalabs', 'id': 44225188, 'node_id': 'MDEyOk9yZ2FuaXphdGlvbjQ0MjI1MTg4', 'avatar_url': 'https://avatars2.githubusercontent.com/u/44225188?v=4', 'gravatar_id': '', 'url': 'https://api.github.com/users/ironhack-datalabs', 'html_url': 'https://github.com/ironhack-datalabs', 'followers_url': 'https://api.github.com/users/ironhack-datalabs/followers', 'following_url': 'https://api.github.com/users/ironhack-datalabs/following{/other_user}', 'gists_url': 'https://api.github.com/users/ironhack-datalabs/gists{/gist_id}', 'starred_url': 'https://api.github.com/users/ironhack-datalabs/starred{/owner}{/repo}', 'subscriptions_url': 'https://api.github.com/users/ironhack-datalabs/subscriptions', 'organizations_url': 'https://api.github.com/users/ironhack-datalabs/orgs', 'repos_url': 'https://api.github.com/users/ironhack-datalabs/repos', 'events_url': 'https://api.github.com/users/ironhack-datalabs/events{/privacy}', 'received_events_url': 'https://api.github.com/users/ironhack-datalabs/received_events', 'type': 'Organization', 'site_admin': False, 'name': 'Ironhack Data Labs', 'company': None, 'blog': 'https://www.ironhack.com', 'location': 'Madrid, Spain', 'email': 'hi@ironhack.com', 'hireable': None, 'bio': 'Ironhack data labs', 'public_repos': 20, 'public_gists': 0, 'followers': 0, 'following': 0, 'created_at': '2018-10-17T08:01:31Z', 'updated_at': '2018-10-17T08:02:57Z'}\n"
     ]
    }
   ],
   "source": [
    "import json\n",
    "import requests\n",
    "\n",
    "response = requests.get('https://api.github.com/users/ironhack-datalabs')\n",
    "results = print(response.json())\n",
    "results\n"
   ]
  },
  {
   "cell_type": "code",
   "execution_count": null,
   "metadata": {},
   "outputs": [],
   "source": []
  }
 ],
 "metadata": {
  "kernelspec": {
   "display_name": "Python 3",
   "language": "python",
   "name": "python3"
  },
  "language_info": {
   "codemirror_mode": {
    "name": "ipython",
    "version": 3
   },
   "file_extension": ".py",
   "mimetype": "text/x-python",
   "name": "python",
   "nbconvert_exporter": "python",
   "pygments_lexer": "ipython3",
   "version": "3.7.3"
  }
 },
 "nbformat": 4,
 "nbformat_minor": 2
}
