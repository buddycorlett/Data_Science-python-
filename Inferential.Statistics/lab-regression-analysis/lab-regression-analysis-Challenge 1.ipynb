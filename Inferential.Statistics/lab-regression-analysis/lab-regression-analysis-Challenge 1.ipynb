{
 "cells": [
  {
   "cell_type": "markdown",
   "metadata": {},
   "source": [
    "# Challenge 1 - Multiple Regression Analysis"
   ]
  },
  {
   "cell_type": "markdown",
   "metadata": {},
   "source": [
    "# Before your start:\n",
    "\n",
    "    Read the README.md file\n",
    "    Comment as much as you can and use the resources (README.md file)\n",
    "    Happy learning!"
   ]
  },
  {
   "cell_type": "raw",
   "metadata": {},
   "source": [
    "In this lab exercise we will work with vehicles.csv data set. \n",
    "You can find a copy of the dataset in the git hub folder. \n",
    "The objective of this exercise is to predict CO2 emissions for vehicles. \n",
    "Please follow the steps and provide your code along with comments."
   ]
  },
  {
   "cell_type": "code",
   "execution_count": 3,
   "metadata": {},
   "outputs": [],
   "source": [
    "## Import the libraries for loading the data set \n",
    "## Load the dataset "
   ]
  },
  {
   "cell_type": "code",
   "execution_count": 4,
   "metadata": {},
   "outputs": [],
   "source": [
    "## You can use the warnings library to ignore warnings that might show when you run the code\n",
    "import warnings\n",
    "warnings.filterwarnings('ignore')"
   ]
  },
  {
   "cell_type": "raw",
   "metadata": {},
   "source": [
    "In this exercise, we are not going to use all the variables in the dataset to make the predictions. Here is the\n",
    "list of the numerical and categorical variables that we will use:\n",
    "    \n",
    "    Numerical : Engine Displacement, Fuel Barrels/Year, Combined MPG\n",
    "    Categorical : Cylinders, Fuel Type, Drivetrain\n",
    "\n",
    "Numerical and Categorical together make up the predictor variables \n",
    "Target variable is \"CO2 emissions for vehicles\""
   ]
  },
  {
   "cell_type": "markdown",
   "metadata": {},
   "source": [
    "### Data Pre-processing (Handling Numerical variables)"
   ]
  },
  {
   "cell_type": "raw",
   "metadata": {},
   "source": [
    "First we will perform the data pre-processing operations on the specified numerical varibles"
   ]
  },
  {
   "cell_type": "code",
   "execution_count": 7,
   "metadata": {},
   "outputs": [],
   "source": [
    "## Store the specified numerical columns data as a separate dataframe. Give it the name \"numerics\""
   ]
  },
  {
   "cell_type": "markdown",
   "metadata": {},
   "source": [
    "### MinMax scaler"
   ]
  },
  {
   "cell_type": "markdown",
   "metadata": {},
   "source": [
    "Hint: Since we are using \"numerics\" to store the nummerical variables we can pass \"numerics\" directly\n",
    "as MinMaxScaler().fit(numerics)"
   ]
  },
  {
   "cell_type": "code",
   "execution_count": 9,
   "metadata": {},
   "outputs": [],
   "source": [
    "## Import the required library\n",
    "## Perform the scaling and store the results inside \"numerical\""
   ]
  },
  {
   "cell_type": "code",
   "execution_count": 11,
   "metadata": {},
   "outputs": [],
   "source": [
    "## Convert \"numerical\" into a dataframe so that it can be used later with the dataframe of categorical variables"
   ]
  },
  {
   "cell_type": "markdown",
   "metadata": {},
   "source": [
    "### Data Pre-processing (Handling Categorical variables)"
   ]
  },
  {
   "cell_type": "raw",
   "metadata": {},
   "source": [
    "In this step we will perform the data pre-processing operations on the specified categorical varibles"
   ]
  },
  {
   "cell_type": "code",
   "execution_count": 14,
   "metadata": {},
   "outputs": [],
   "source": [
    "## Similar to numerical variables, store the specified categorical columns data as a dataframe. \n",
    "## Give it the name \"cats\""
   ]
  },
  {
   "cell_type": "code",
   "execution_count": 16,
   "metadata": {},
   "outputs": [],
   "source": [
    "## Check if \"cats\" is actually a dataframe using cats.head(3)"
   ]
  },
  {
   "cell_type": "markdown",
   "metadata": {},
   "source": [
    "### Using One Hot Encoding "
   ]
  },
  {
   "cell_type": "code",
   "execution_count": null,
   "metadata": {},
   "outputs": [],
   "source": [
    "# Perform One hot encoding and store the results (one hot encoded dataframe) into \"categorical\""
   ]
  },
  {
   "cell_type": "code",
   "execution_count": 23,
   "metadata": {},
   "outputs": [],
   "source": [
    "## Check how the new OHE data looks like using the head() function"
   ]
  },
  {
   "cell_type": "raw",
   "metadata": {},
   "source": [
    "Now we have pre-processed our specified numerical and categorical data. \n",
    "In this next step we will combine the two dataframes (numerical and categorical)"
   ]
  },
  {
   "cell_type": "raw",
   "metadata": {},
   "source": [
    "You can the following code to combine / concatenate the two dataframes"
   ]
  },
  {
   "cell_type": "code",
   "execution_count": 25,
   "metadata": {},
   "outputs": [],
   "source": [
    "X = pd.concat([numerical,categorical],axis=1)"
   ]
  },
  {
   "cell_type": "raw",
   "metadata": {},
   "source": [
    "Now that we have processed our predictor varibles, we can work towards fitting the multiple regression model \n",
    "on the data "
   ]
  },
  {
   "cell_type": "code",
   "execution_count": 26,
   "metadata": {},
   "outputs": [],
   "source": [
    "## Store the target variable \"CO2 emissions for vehicles\" as a dataframe 'Y'"
   ]
  },
  {
   "cell_type": "code",
   "execution_count": 28,
   "metadata": {},
   "outputs": [],
   "source": [
    "## Import the libraries required for regression model \n",
    "## Fit the linear regression model on the data"
   ]
  },
  {
   "cell_type": "code",
   "execution_count": 30,
   "metadata": {},
   "outputs": [],
   "source": [
    "## Make predictions on the dataset, store the results in \"predictions\""
   ]
  },
  {
   "cell_type": "code",
   "execution_count": 32,
   "metadata": {},
   "outputs": [],
   "source": [
    "## Print the measures of accuracy of the model - MSE, RMSE, and R2 score"
   ]
  },
  {
   "cell_type": "raw",
   "metadata": {},
   "source": [
    "Hint: Use from sklearn.metrics import mean_squared_error, r2_score"
   ]
  }
 ],
 "metadata": {
  "kernelspec": {
   "display_name": "Python 3",
   "language": "python",
   "name": "python3"
  },
  "language_info": {
   "codemirror_mode": {
    "name": "ipython",
    "version": 3
   },
   "file_extension": ".py",
   "mimetype": "text/x-python",
   "name": "python",
   "nbconvert_exporter": "python",
   "pygments_lexer": "ipython3",
   "version": "3.7.3"
  }
 },
 "nbformat": 4,
 "nbformat_minor": 2
}
