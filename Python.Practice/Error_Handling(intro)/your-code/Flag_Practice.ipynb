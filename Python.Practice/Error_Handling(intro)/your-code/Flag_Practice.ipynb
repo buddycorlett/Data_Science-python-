{
 "cells": [
  {
   "cell_type": "code",
   "execution_count": 2,
   "metadata": {},
   "outputs": [
    {
     "name": "stdout",
     "output_type": "stream",
     "text": [
      "Press 1 to convert from Fahrenheit to Celsius or Press 2 to convert from Celsius to Fahrenheit.1\n",
      "What is the number you want to convert?55\n",
      "12.777777777777779\n"
     ]
    }
   ],
   "source": [
    "x = int(input(\"Press 1 to convert from Fahrenheit to Celsius or Press 2 to convert from Celsius to Fahrenheit.\"))\n",
    "y = input(\"What is the number you want to convert?\")\n",
    "z = float(x)\n",
    "\n",
    "if z == 1:\n",
    "    y=(float(y)-32)*5/9\n",
    "    print(y)\n",
    "elif z == 2:\n",
    "    y=float(y)*9/5+32\n",
    "    print(y)\n",
    "else:\n",
    "    print(\"Please enter either 1 or 2\")"
   ]
  },
  {
   "cell_type": "code",
   "execution_count": 4,
   "metadata": {},
   "outputs": [
    {
     "name": "stdout",
     "output_type": "stream",
     "text": [
      "Press 1 to convert from Fahrenheit to Celsius or Press 2 to convert from Celsius to Fahrenheit. 3\n",
      "ERROR: Please enter either 1 or 2\n",
      "Press 1 to convert from Fahrenheit to Celsius or Press 2 to convert from Celsius to Fahrenheit. 3\n",
      "ERROR: Please enter either 1 or 2\n",
      "Press 1 to convert from Fahrenheit to Celsius or Press 2 to convert from Celsius to Fahrenheit. 5\n",
      "ERROR: Please enter either 1 or 2\n",
      "Press 1 to convert from Fahrenheit to Celsius or Press 2 to convert from Celsius to Fahrenheit. \n",
      "ERROR: Please enter either 1 or 2\n",
      "Press 1 to convert from Fahrenheit to Celsius or Press 2 to convert from Celsius to Fahrenheit. 2\n",
      "What is the number you want to convert?35\n",
      "95.0\n"
     ]
    }
   ],
   "source": [
    "flag1=False\n",
    "while flag1==False:\n",
    "    x = input(\"Press 1 to convert from Fahrenheit to Celsius or Press 2 to convert from Celsius to Fahrenheit. \")\n",
    "    if x not in ['1','2']:\n",
    "        print('ERROR: Please enter either 1 or 2')\n",
    "    else:\n",
    "        z = int(x)\n",
    "        flag1=True\n",
    "\n",
    "flag2=False\n",
    "while flag2==False:\n",
    "    y = input(\"What is the number you want to convert?\")\n",
    "    if y.replace(\".\", \"\", 1).lstrip('+-').isdigit()==False:\n",
    "        print('ERROR: Please enter a number')\n",
    "    else:\n",
    "        y=float(y)\n",
    "        flag2=True\n",
    "\n",
    "if z == 1:\n",
    "    y=(y-32)*5/9\n",
    "    print(y)\n",
    "else:\n",
    "    y=y*9/5+32\n",
    "    print(y)"
   ]
  },
  {
   "cell_type": "code",
   "execution_count": 10,
   "metadata": {
    "scrolled": false
   },
   "outputs": [
    {
     "data": {
      "text/plain": [
       "'ufdy'"
      ]
     },
     "execution_count": 10,
     "metadata": {},
     "output_type": "execute_result"
    }
   ],
   "source": [
    "name = \"Buddy\"\n",
    "name.replace(\"d\", \"f\", 1).lstrip(\"B\")\n",
    "\n"
   ]
  },
  {
   "cell_type": "code",
   "execution_count": null,
   "metadata": {},
   "outputs": [],
   "source": []
  },
  {
   "cell_type": "code",
   "execution_count": null,
   "metadata": {},
   "outputs": [],
   "source": []
  }
 ],
 "metadata": {
  "kernelspec": {
   "display_name": "Python 3",
   "language": "python",
   "name": "python3"
  },
  "language_info": {
   "codemirror_mode": {
    "name": "ipython",
    "version": 3
   },
   "file_extension": ".py",
   "mimetype": "text/x-python",
   "name": "python",
   "nbconvert_exporter": "python",
   "pygments_lexer": "ipython3",
   "version": "3.7.3"
  }
 },
 "nbformat": 4,
 "nbformat_minor": 2
}
