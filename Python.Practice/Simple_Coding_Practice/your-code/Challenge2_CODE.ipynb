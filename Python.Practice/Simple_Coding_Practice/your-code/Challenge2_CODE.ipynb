{
 "cells": [
  {
   "cell_type": "code",
   "execution_count": 21,
   "metadata": {},
   "outputs": [
    {
     "name": "stdout",
     "output_type": "stream",
     "text": [
      "Enter minimum string length: 3\n",
      "Enter maximum string length: 5\n",
      "How many random strings do you want to generate? 10\n",
      "M3T\n",
      "H5Q2\n",
      "H3RH4\n",
      "7SE\n",
      "N3P\n",
      "A12KX\n",
      "R2Z\n",
      "6SZ\n",
      "TPGE1\n",
      "78A\n"
     ]
    }
   ],
   "source": [
    "import random\n",
    "import string\n",
    "\n",
    "a = input('Enter minimum string length: ')\n",
    "a = int(a)\n",
    "b = input('Enter maximum string length: ')\n",
    "b = int(b)\n",
    "n = input('How many random strings do you want to generate? ')\n",
    "n = int(n)\n",
    "\n",
    "y = []\n",
    "\n",
    "for x in range(n):\n",
    "    y.append(random.randint(a,b))\n",
    "\n",
    "for x in range(len(y)):\n",
    "    print(''.join(random.choices(string.ascii_uppercase + string.digits, k=y[x])))\n",
    "\n",
    "\n",
    "# def id_generator(size=6, chars=string.ascii_uppercase + string.digits):\n",
    "#     return ''.join(random.choice(chars) for _ in range(size))\n",
    "\n"
   ]
  },
  {
   "cell_type": "code",
   "execution_count": null,
   "metadata": {},
   "outputs": [],
   "source": []
  },
  {
   "cell_type": "code",
   "execution_count": null,
   "metadata": {},
   "outputs": [],
   "source": []
  }
 ],
 "metadata": {
  "kernelspec": {
   "display_name": "Python 3",
   "language": "python",
   "name": "python3"
  },
  "language_info": {
   "codemirror_mode": {
    "name": "ipython",
    "version": 3
   },
   "file_extension": ".py",
   "mimetype": "text/x-python",
   "name": "python",
   "nbconvert_exporter": "python",
   "pygments_lexer": "ipython3",
   "version": "3.7.3"
  }
 },
 "nbformat": 4,
 "nbformat_minor": 2
}
