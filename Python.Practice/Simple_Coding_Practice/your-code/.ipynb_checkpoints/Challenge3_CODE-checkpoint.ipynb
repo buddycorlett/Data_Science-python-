{
 "cells": [
  {
   "cell_type": "code",
   "execution_count": 20,
   "metadata": {},
   "outputs": [
    {
     "name": "stdout",
     "output_type": "stream",
     "text": [
      "598.0\n",
      "27.54333472251892\n"
     ]
    }
   ],
   "source": [
    "# def my_function(X):\n",
    "#     solutions = []\n",
    "#     for x in range(5, X):\n",
    "#         for y in range(4, X):\n",
    "#             for z in range(3, X):\n",
    "#                 if (x*x==y*y+z*z):\n",
    "#                   solutions.append([x, y, z])\n",
    "#     m = 0\n",
    "#     for solution in solutions:\n",
    "#         if m < max(solution):\n",
    "#             m = max(solution)\n",
    "#     return m\n",
    "\n",
    "# X = input(\"What is the maximal length of the triangle side? Enter a number: \")\n",
    "\n",
    "# print(\"The longest side possible is \" + str(my_function(int(X))))\n",
    "# start = time.time()\n",
    "a = []\n",
    "b = []\n",
    "c = []\n",
    "d = []\n",
    "import math\n",
    "import time\n",
    "def max_side_tri(x):\n",
    "    start = time.time()\n",
    "    for i in range(1,x):\n",
    "        a.append(i*i)\n",
    "        b.append(i*i)\n",
    "        c.append(i*i)\n",
    "    for i in range(len(a)):\n",
    "        for j in range(len(a)):\n",
    "            for k in range(len(a)):\n",
    "                if a[i]==b[j]+c[k]:\n",
    "                    d.append(math.sqrt(a[i]))\n",
    "    print(d[len(d)-1])\n",
    "    print(time.time()-start)\n",
    "max_side_tri(600)\n",
    "# %%time"
   ]
  },
  {
   "cell_type": "code",
   "execution_count": 22,
   "metadata": {},
   "outputs": [
    {
     "data": {
      "image/png": "[encoded data removed]",
      "text/plain": [
       "<Figure size 432x288 with 1 Axes>"
      ]
     },
     "metadata": {
      "needs_background": "light"
     },
     "output_type": "display_data"
    }
   ],
   "source": [
    "import matplotlib.pyplot as plt\n",
    "plt.plot([100,200,300,400,500,600,1000],[.11, .98, 3.29,7.91,15.79,27.54,128])\n",
    "plt.show()"
   ]
  },
  {
   "cell_type": "code",
   "execution_count": null,
   "metadata": {},
   "outputs": [],
   "source": []
  }
 ],
 "metadata": {
  "kernelspec": {
   "display_name": "Python 3",
   "language": "python",
   "name": "python3"
  },
  "language_info": {
   "codemirror_mode": {
    "name": "ipython",
    "version": 3
   },
   "file_extension": ".py",
   "mimetype": "text/x-python",
   "name": "python",
   "nbconvert_exporter": "python",
   "pygments_lexer": "ipython3",
   "version": "3.7.3"
  }
 },
 "nbformat": 4,
 "nbformat_minor": 2
}
