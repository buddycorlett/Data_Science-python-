{
 "cells": [
  {
   "cell_type": "code",
   "execution_count": 5,
   "metadata": {},
   "outputs": [
    {
     "name": "stdout",
     "output_type": "stream",
     "text": [
      "Welcome to this calculator!\n",
      "It can add and subtract whole numbers from zero to five\n",
      "Please choose your first number (zero to five): 5\n",
      "What do you want to do? plus(or +) or minus(or -): +\n",
      "Please choose your second number (zero to five): 5\n",
      "10\n",
      "Thanks for using this calculator, goodbye :)\n"
     ]
    }
   ],
   "source": [
    "import sys\n",
    "import time\n",
    "\n",
    "print('Welcome to this calculator!')\n",
    "print('It can add and subtract whole numbers from zero to five')\n",
    "\n",
    "a = input('Please choose your first number (zero to five): ')\n",
    "a = int(a)\n",
    "b = input('What do you want to do? plus(or +) or minus(or -): ')\n",
    "c = input('Please choose your second number (zero to five): ')\n",
    "c = int(c)\n",
    "\n",
    "if a < 0 or a > 5 or c < 0 or c > 5:\n",
    "    print('This calculator only works with numbers from 0 to 5')\n",
    "    time.sleep(5)\n",
    "    sys.exit('Retry')\n",
    "elif b == '-' or b == 'minus':\n",
    "    x = a - c\n",
    "    print(x)\n",
    "elif b == '+' or b == 'plus':\n",
    "    x = a + c\n",
    "    print(x)\n",
    "\n",
    "print(\"Thanks for using this calculator, goodbye :)\")"
   ]
  },
  {
   "cell_type": "code",
   "execution_count": null,
   "metadata": {},
   "outputs": [],
   "source": []
  },
  {
   "cell_type": "code",
   "execution_count": null,
   "metadata": {},
   "outputs": [],
   "source": []
  }
 ],
 "metadata": {
  "kernelspec": {
   "display_name": "Python 3",
   "language": "python",
   "name": "python3"
  },
  "language_info": {
   "codemirror_mode": {
    "name": "ipython",
    "version": 3
   },
   "file_extension": ".py",
   "mimetype": "text/x-python",
   "name": "python",
   "nbconvert_exporter": "python",
   "pygments_lexer": "ipython3",
   "version": "3.7.3"
  }
 },
 "nbformat": 4,
 "nbformat_minor": 2
}
