{
 "cells": [
  {
   "cell_type": "markdown",
   "metadata": {},
   "source": [
    "# Snail and well\n",
    "\n",
    "A snail falls at the bottom of a 125 cm well. Each day the snail rises 30 cm. But at night, while sleeping, slides 20 cm because the walls are wet. How many days does it take to escape from the well?\n",
    "\n",
    "TIP: http://puzzles.nigelcoldwell.co.uk/sixtytwo.htm"
   ]
  },
  {
   "cell_type": "markdown",
   "metadata": {},
   "source": [
    "## Solución"
   ]
  },
  {
   "cell_type": "code",
   "execution_count": 20,
   "metadata": {},
   "outputs": [
    {
     "name": "stdout",
     "output_type": "stream",
     "text": [
      "days = 11\n"
     ]
    }
   ],
   "source": [
    "# Assign problem data to variables with representative names\n",
    "# well height, daily advance, night retreat, accumulated distance\n",
    "\n",
    "well_height = -125\n",
    "daily_advance = 30\n",
    "night_retreat = -20\n",
    "accumulated_distance = -125\n",
    "accumulated_distance_before_night = -125\n",
    "\n",
    "# Assign 0 to the variable that represents the solution\n",
    "\n",
    "time_to_escape = 0 \n",
    "\n",
    "# Write the code that solves the problem\n",
    "\n",
    "while well_height < 0:\n",
    "    \n",
    "    accumulated_distance_before_night = accumulated_distance\n",
    "    accumulated_distance_before_night = accumulated_distance_before_night + daily_advance \n",
    "    time_to_escape = time_to_escape + 1\n",
    "    \n",
    "    if accumulated_distance_before_night > 0:\n",
    "        print(\"days = \" + str(time_to_escape))\n",
    "        break\n",
    "        \n",
    "    elif accumulated_distance_before_night < 0:\n",
    "        \n",
    "        accumulated_distance = accumulated_distance_before_night + night_retreat\n",
    "        \n",
    "  \n",
    "# Print the result with print('Days =', days)\n"
   ]
  },
  {
   "cell_type": "markdown",
   "metadata": {},
   "source": [
    "## Goals\n",
    "\n",
    "1. Treatment of variables\n",
    "2. Use of loop **while**\n",
    "3. Use of conditional **if-else**\n",
    "4. Print in console"
   ]
  },
  {
   "cell_type": "markdown",
   "metadata": {},
   "source": [
    "## Bonus\n",
    "The distance traveled by the snail is now defined by a list.\n",
    "```\n",
    "advance_cm = [30, 21, 33, 77, 44, 45, 23, 45, 12, 34, 55]\n",
    "```\n",
    "How long does it take to raise the well?\n",
    "\n",
    "What is its maximum displacement in one day? And its minimum?\n",
    "\n",
    "What is its average speed during the day?\n",
    "\n",
    "What is the standard deviation of its displacement during the day?"
   ]
  },
  {
   "cell_type": "code",
   "execution_count": 40,
   "metadata": {},
   "outputs": [
    {
     "name": "stdout",
     "output_type": "stream",
     "text": [
      "[11, 106, 9, 2, 5, 5, 36, 5, 8, 4]\n"
     ]
    }
   ],
   "source": [
    "# Assign problem data to variables with representative names\n",
    "# well height, daily advance, night retreat, accumulated distance\n",
    "\n",
    "advance_cm = [30, 21, 33, 77, 44, 45, 23, 45, 34, 55]\n",
    "time_to_escape = [] \n",
    "\n",
    "for i in range(len(advance_cm)):\n",
    "    \n",
    "    well_height = -125\n",
    "    night_retreat = -20\n",
    "    accumulated_distance = -125\n",
    "    accumulated_distance_before_night = -125\n",
    "    daily_advance = advance_cm[i]\n",
    "    time_to_escape_temp = 0\n",
    "    x = False\n",
    "   \n",
    "# # Write the code that solves the problem\n",
    "\n",
    "    while x == False:\n",
    "        \n",
    "        accumulated_distance_before_night = accumulated_distance\n",
    "        accumulated_distance_before_night = accumulated_distance_before_night + daily_advance \n",
    "        time_to_escape_temp += 1\n",
    "        accumulated_distance = accumulated_distance_before_night + night_retreat\n",
    "        if accumulated_distance_before_night > 0:\n",
    "            time_to_escape.append(time_to_escape_temp)\n",
    "            break\n",
    "\n",
    "print(time_to_escape)\n",
    "        \n",
    "        \n",
    "# #one way If the advance every day is different and that doesn't change the variable\n",
    "# daily_advance = [30,21,33,77,44,45,23,45,34,55]\n",
    "# well_height = 125\n",
    "# night_decline = -20\n",
    "\n",
    "# acc_dist = 0\n",
    "# days = 0\n",
    "\n",
    "# for i in daily_advance:\n",
    "#     acc_dist+= i\n",
    "#     if acc_dist > well_height:\n",
    "#         break\n",
    "#     acc_dist+= night_decline\n",
    "#     days+=1\n",
    "# print(days)\n",
    "\n",
    "\n",
    "\n",
    "# What is its maximum displacement in a day? And its minimum?\n",
    "\n",
    "\n",
    "\n",
    "# What is its average progress?\n",
    "\n",
    "\n",
    "# What is the standard deviation of your displacement during the day?\n",
    "\n"
   ]
  },
  {
   "cell_type": "code",
   "execution_count": null,
   "metadata": {},
   "outputs": [],
   "source": []
  }
 ],
 "metadata": {
  "kernelspec": {
   "display_name": "Python 3",
   "language": "python",
   "name": "python3"
  },
  "language_info": {
   "codemirror_mode": {
    "name": "ipython",
    "version": 3
   },
   "file_extension": ".py",
   "mimetype": "text/x-python",
   "name": "python",
   "nbconvert_exporter": "python",
   "pygments_lexer": "ipython3",
   "version": "3.7.3"
  }
 },
 "nbformat": 4,
 "nbformat_minor": 2
}
